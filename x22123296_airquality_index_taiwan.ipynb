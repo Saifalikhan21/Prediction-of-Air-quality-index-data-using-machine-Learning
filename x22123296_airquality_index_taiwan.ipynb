{
 "cells": [
  {
   "cell_type": "code",
   "execution_count": 1,
   "id": "cb572349",
   "metadata": {},
   "outputs": [
    {
     "name": "stdout",
     "output_type": "stream",
     "text": [
      "3.9.13 (main, Aug 25 2022, 23:51:50) [MSC v.1916 64 bit (AMD64)]\n"
     ]
    }
   ],
   "source": [
    "import pandas as pd\n",
    "import numpy as np\n",
    "import matplotlib as mpl\n",
    "import matplotlib.pyplot as plt\n",
    "import sys\n",
    "import seaborn as sns\n",
    "print(sys.version)\n",
    "pd.set_option('display.max_columns', 500)\n",
    "\n",
    "import bokeh\n",
    "import warnings\n",
    "warnings.filterwarnings(\"ignore\")\n",
    "import seaborn as sns\n",
    "sns.set(style=\"white\", color_codes=True)\n",
    "\n",
    "\n",
    "from sklearn.preprocessing import LabelEncoder\n",
    "from sklearn.model_selection import train_test_split\n",
    "from sklearn.linear_model import LinearRegression\n",
    "from sklearn.tree import DecisionTreeRegressor\n",
    "from sklearn.ensemble import RandomForestRegressor\n",
    "from sklearn import metrics\n",
    "from sklearn.metrics import mean_absolute_error, mean_squared_error, r2_score\n",
    "from sklearn.metrics import accuracy_score, confusion_matrix"
   ]
  },
  {
   "cell_type": "code",
   "execution_count": 2,
   "id": "90fbf701",
   "metadata": {},
   "outputs": [],
   "source": [
    "df_air=pd.read_csv('2015_Air_quality_in_northern_Taiwan.csv', encoding=\"unicode_escape\")\n"
   ]
  },
  {
   "cell_type": "code",
   "execution_count": 3,
   "id": "573ee97b",
   "metadata": {},
   "outputs": [],
   "source": [
    "sampled_data = df_air.sample(n=10000, random_state=42)\n",
    "\n",
    "# Save the sampled data to a new CSV file\n",
    "sampled_data.to_csv('airqualtaiwan302320.csv', index=False)"
   ]
  },
  {
   "cell_type": "code",
   "execution_count": 4,
   "id": "2181d65d",
   "metadata": {},
   "outputs": [],
   "source": [
    "taiwan_air_quality=pd.read_csv('airqualtaiwan302320.csv', encoding=\"unicode_escape\")"
   ]
  },
  {
   "cell_type": "code",
   "execution_count": 5,
   "id": "3fd92cb6",
   "metadata": {},
   "outputs": [
    {
     "data": {
      "text/html": [
       "<div>\n",
       "<style scoped>\n",
       "    .dataframe tbody tr th:only-of-type {\n",
       "        vertical-align: middle;\n",
       "    }\n",
       "\n",
       "    .dataframe tbody tr th {\n",
       "        vertical-align: top;\n",
       "    }\n",
       "\n",
       "    .dataframe thead th {\n",
       "        text-align: right;\n",
       "    }\n",
       "</style>\n",
       "<table border=\"1\" class=\"dataframe\">\n",
       "  <thead>\n",
       "    <tr style=\"text-align: right;\">\n",
       "      <th></th>\n",
       "      <th>time</th>\n",
       "      <th>station</th>\n",
       "      <th>AMB_TEMP</th>\n",
       "      <th>CH4</th>\n",
       "      <th>CO</th>\n",
       "      <th>NMHC</th>\n",
       "      <th>NO</th>\n",
       "      <th>NO2</th>\n",
       "      <th>NOx</th>\n",
       "      <th>O3</th>\n",
       "      <th>PH_RAIN</th>\n",
       "      <th>PM10</th>\n",
       "      <th>PM2.5</th>\n",
       "      <th>RAINFALL</th>\n",
       "      <th>RAIN_COND</th>\n",
       "      <th>RH</th>\n",
       "      <th>SO2</th>\n",
       "      <th>THC</th>\n",
       "      <th>UVB</th>\n",
       "      <th>WD_HR</th>\n",
       "      <th>WIND_DIREC</th>\n",
       "      <th>WIND_SPEED</th>\n",
       "      <th>WS_HR</th>\n",
       "    </tr>\n",
       "  </thead>\n",
       "  <tbody>\n",
       "    <tr>\n",
       "      <th>0</th>\n",
       "      <td>2015/05/09 14:00</td>\n",
       "      <td>Zhongli</td>\n",
       "      <td>30</td>\n",
       "      <td>1.9</td>\n",
       "      <td>0.78</td>\n",
       "      <td>0.22</td>\n",
       "      <td>17</td>\n",
       "      <td>14</td>\n",
       "      <td>31</td>\n",
       "      <td>18</td>\n",
       "      <td>NaN</td>\n",
       "      <td>56</td>\n",
       "      <td>19</td>\n",
       "      <td>NR</td>\n",
       "      <td>NaN</td>\n",
       "      <td>68</td>\n",
       "      <td>2</td>\n",
       "      <td>2.1</td>\n",
       "      <td>NaN</td>\n",
       "      <td>115</td>\n",
       "      <td>99</td>\n",
       "      <td>1.9</td>\n",
       "      <td>0.5</td>\n",
       "    </tr>\n",
       "    <tr>\n",
       "      <th>1</th>\n",
       "      <td>2015/08/24 15:00</td>\n",
       "      <td>Wanhua</td>\n",
       "      <td>33</td>\n",
       "      <td>NaN</td>\n",
       "      <td>0.35</td>\n",
       "      <td>NaN</td>\n",
       "      <td>2.8</td>\n",
       "      <td>11</td>\n",
       "      <td>14</td>\n",
       "      <td>49</td>\n",
       "      <td>NaN</td>\n",
       "      <td>26</td>\n",
       "      <td>22</td>\n",
       "      <td>NR</td>\n",
       "      <td>NaN</td>\n",
       "      <td>58</td>\n",
       "      <td>2.6</td>\n",
       "      <td>NaN</td>\n",
       "      <td>NaN</td>\n",
       "      <td>273</td>\n",
       "      <td>277</td>\n",
       "      <td>4.4</td>\n",
       "      <td>3.6</td>\n",
       "    </tr>\n",
       "    <tr>\n",
       "      <th>2</th>\n",
       "      <td>2015/12/02 07:00</td>\n",
       "      <td>Tamsui</td>\n",
       "      <td>NaN</td>\n",
       "      <td>NaN</td>\n",
       "      <td>0.59</td>\n",
       "      <td>NaN</td>\n",
       "      <td>14</td>\n",
       "      <td>23</td>\n",
       "      <td>37</td>\n",
       "      <td>3.1</td>\n",
       "      <td>NaN</td>\n",
       "      <td>28</td>\n",
       "      <td>9</td>\n",
       "      <td>NaN</td>\n",
       "      <td>NaN</td>\n",
       "      <td>NaN</td>\n",
       "      <td>4.1</td>\n",
       "      <td>NaN</td>\n",
       "      <td>0.1</td>\n",
       "      <td>NaN</td>\n",
       "      <td>NaN</td>\n",
       "      <td>NaN</td>\n",
       "      <td>NaN</td>\n",
       "    </tr>\n",
       "    <tr>\n",
       "      <th>3</th>\n",
       "      <td>2015/10/02 21:00</td>\n",
       "      <td>Banqiao</td>\n",
       "      <td>27</td>\n",
       "      <td>2</td>\n",
       "      <td>0.71</td>\n",
       "      <td>0.18</td>\n",
       "      <td>1</td>\n",
       "      <td>24</td>\n",
       "      <td>25</td>\n",
       "      <td>20</td>\n",
       "      <td>NR</td>\n",
       "      <td>38</td>\n",
       "      <td>13</td>\n",
       "      <td>NR</td>\n",
       "      <td>NR</td>\n",
       "      <td>80</td>\n",
       "      <td>2.2</td>\n",
       "      <td>2.1</td>\n",
       "      <td>0</td>\n",
       "      <td>61</td>\n",
       "      <td>60</td>\n",
       "      <td>2.6</td>\n",
       "      <td>2.8</td>\n",
       "    </tr>\n",
       "    <tr>\n",
       "      <th>4</th>\n",
       "      <td>2015/04/17 03:00</td>\n",
       "      <td>Guanyin</td>\n",
       "      <td>20</td>\n",
       "      <td>NaN</td>\n",
       "      <td>0.45</td>\n",
       "      <td>NaN</td>\n",
       "      <td>3.1</td>\n",
       "      <td>46</td>\n",
       "      <td>49</td>\n",
       "      <td>7.7</td>\n",
       "      <td>NR</td>\n",
       "      <td>99</td>\n",
       "      <td>38</td>\n",
       "      <td>NR</td>\n",
       "      <td>NR</td>\n",
       "      <td>77</td>\n",
       "      <td>19</td>\n",
       "      <td>NaN</td>\n",
       "      <td>NaN</td>\n",
       "      <td>110</td>\n",
       "      <td>117</td>\n",
       "      <td>2</td>\n",
       "      <td>1.3</td>\n",
       "    </tr>\n",
       "  </tbody>\n",
       "</table>\n",
       "</div>"
      ],
      "text/plain": [
       "               time  station AMB_TEMP  CH4    CO  NMHC   NO NO2 NOx   O3  \\\n",
       "0  2015/05/09 14:00  Zhongli       30  1.9  0.78  0.22   17  14  31   18   \n",
       "1  2015/08/24 15:00   Wanhua       33  NaN  0.35   NaN  2.8  11  14   49   \n",
       "2  2015/12/02 07:00   Tamsui      NaN  NaN  0.59   NaN   14  23  37  3.1   \n",
       "3  2015/10/02 21:00  Banqiao       27    2  0.71  0.18    1  24  25   20   \n",
       "4  2015/04/17 03:00  Guanyin       20  NaN  0.45   NaN  3.1  46  49  7.7   \n",
       "\n",
       "  PH_RAIN PM10 PM2.5 RAINFALL RAIN_COND   RH  SO2  THC  UVB WD_HR WIND_DIREC  \\\n",
       "0     NaN   56    19       NR       NaN   68    2  2.1  NaN   115         99   \n",
       "1     NaN   26    22       NR       NaN   58  2.6  NaN  NaN   273        277   \n",
       "2     NaN   28     9      NaN       NaN  NaN  4.1  NaN  0.1   NaN        NaN   \n",
       "3      NR   38    13       NR        NR   80  2.2  2.1    0    61         60   \n",
       "4      NR   99    38       NR        NR   77   19  NaN  NaN   110        117   \n",
       "\n",
       "  WIND_SPEED WS_HR  \n",
       "0        1.9   0.5  \n",
       "1        4.4   3.6  \n",
       "2        NaN   NaN  \n",
       "3        2.6   2.8  \n",
       "4          2   1.3  "
      ]
     },
     "execution_count": 5,
     "metadata": {},
     "output_type": "execute_result"
    }
   ],
   "source": [
    "taiwan_air_quality.head()"
   ]
  },
  {
   "cell_type": "code",
   "execution_count": 6,
   "id": "4c4e1c8e",
   "metadata": {},
   "outputs": [
    {
     "name": "stdout",
     "output_type": "stream",
     "text": [
      "float64\n",
      "[30.         33.         23.40333115 27.         20.         32.\n",
      " 26.         17.         15.         16.         25.         22.\n",
      " 28.         23.         31.         18.         19.         34.\n",
      " 21.         24.         29.         12.         13.         14.\n",
      " 35.         11.          9.6         9.5        37.          9.3\n",
      "  6.1         8.9         0.31       36.          8.7        56.\n",
      " 10.          7.9         9.7         7.6         0.2         9.9\n",
      "  0.17        9.2         3.5         8.6         4.4         9.1\n",
      "  6.4         8.4         7.5         0.5         0.47        0.4\n",
      "  9.8         6.6         9.4         8.5         0.16        5.7\n",
      "  8.3         3.8         5.3         7.3         8.8         4.3\n",
      "  4.8         4.1         0.33        0.3         8.2       ]\n"
     ]
    }
   ],
   "source": [
    "# Convert to numeric values and replace invalid values with NaN\n",
    "taiwan_air_quality['AMB_TEMP'] = pd.to_numeric(taiwan_air_quality['AMB_TEMP'], errors='coerce')\n",
    "\n",
    "# Replace NaN values with the mean temperature\n",
    "taiwan_air_quality['AMB_TEMP'].fillna(taiwan_air_quality['AMB_TEMP'].mean(), inplace=True)\n",
    "\n",
    "# Print the data type and unique values of AMB_TEMP\n",
    "print(taiwan_air_quality['AMB_TEMP'].dtype)\n",
    "print(taiwan_air_quality['AMB_TEMP'].unique())"
   ]
  },
  {
   "cell_type": "code",
   "execution_count": 7,
   "id": "ba8125c7",
   "metadata": {},
   "outputs": [
    {
     "name": "stdout",
     "output_type": "stream",
     "text": [
      "float64\n",
      "[1.9        1.93934659 2.         2.1        1.8        1.7\n",
      " 2.4        1.6        3.1        2.3        2.2        2.5\n",
      " 2.8        2.7        2.6        3.3        3.         1.5\n",
      " 3.4        2.9        3.6        3.7        4.1        4.2       ]\n"
     ]
    }
   ],
   "source": [
    "# Convert to numeric values and replace invalid values with NaN\n",
    "taiwan_air_quality['CH4'] = pd.to_numeric(taiwan_air_quality['CH4'], errors='coerce')\n",
    "\n",
    "# Replace NaN values with the mean temperature\n",
    "taiwan_air_quality['CH4'].fillna(taiwan_air_quality['CH4'].mean(), inplace=True)\n",
    "\n",
    "# Print the data type and unique values of AMB_TEMP\n",
    "print(taiwan_air_quality['CH4'].dtype)\n",
    "print(taiwan_air_quality['CH4'].unique())"
   ]
  },
  {
   "cell_type": "code",
   "execution_count": 8,
   "id": "e3d6ae33",
   "metadata": {},
   "outputs": [
    {
     "name": "stdout",
     "output_type": "stream",
     "text": [
      "float64\n",
      "[ 0.78        0.35        0.59        0.71        0.45        0.29\n",
      "  0.53        0.56        0.26        1.06        1.1         0.47\n",
      "  0.63        0.3         0.56404446  0.74        0.31        0.27\n",
      "  0.41        0.18        0.57        0.97        0.4         0.75\n",
      "  0.23        0.48        0.82        0.73        0.46        0.54\n",
      "  0.7         0.37        0.11        0.22        0.5         0.66\n",
      "  1.81        0.2         0.09        0.15        1.28        0.91\n",
      "  0.34        0.44        0.88        0.94        1.51        0.25\n",
      "  2.69        1.36        0.8         0.52        0.84        0.76\n",
      "  0.24        0.43        0.13        2.24        1.15        1.21\n",
      "  0.99        0.16        0.42        0.64        0.85        1.59\n",
      "  1.33        0.28        2.06        1.84        0.95        0.33\n",
      "  0.21        0.96        0.65        0.61        0.39        1.25\n",
      "  0.49        0.32        0.17        0.6         0.69        0.77\n",
      "  1.19        1.09        0.79        0.83        0.14        1.12\n",
      "  0.19        0.55        1.22        1.46        2.97        2.07\n",
      "  4.31        0.92        0.12        2.01        2.51        1.02\n",
      "  0.38        0.62        0.51        0.1         0.86        1.75\n",
      "  2.55        1.23        1.73        1.01        0.08        0.58\n",
      "  2.18        1.32        0.36        1.39        2.29        1.76\n",
      "  0.9         1.6         3.17        2.58        1.72        0.68\n",
      "  2.02        1.77        2.2         3.68        0.72        2.04\n",
      "  1.55        2.6         0.87        1.65        1.43        1.82\n",
      "  0.81        0.93        1.24        1.2         1.3         2.36\n",
      "  1.05        2.22        0.98        2.83        1.68        0.89\n",
      "  4.51        1.74        1.26        2.          1.67        1.94\n",
      "  1.86        1.          2.26        3.31        4.99        1.07\n",
      "  3.26        1.34        1.13        2.12        1.45        2.57\n",
      "  1.41        1.08        1.17        0.67        1.03        2.11\n",
      "  1.04        2.3         2.27        2.15        1.69        2.77\n",
      "  2.39        1.11        2.59        1.89        2.37        1.57\n",
      "  1.49        1.92        1.14        2.48        1.48        1.62\n",
      "  1.47        1.5         1.38        1.91        1.83        1.16\n",
      "  2.76        1.66        1.29        2.82        2.73        2.61\n",
      "  2.4         1.27        2.46        5.5         2.31        1.97\n",
      "  2.08        2.5         1.37        1.87        2.05       10.\n",
      "  1.18        1.53        1.31        0.04        0.06        1.96\n",
      "  2.19        2.17        2.89        3.59        2.34        1.52\n",
      "  1.78        1.98        2.32        3.34        0.07        2.67\n",
      "  2.7         1.44        1.99        3.29        1.4         4.14\n",
      "  2.33        1.88        1.71        1.42        3.37        2.03\n",
      "  2.65        1.9         2.1         2.16        1.61        1.54\n",
      "  2.47        2.13        1.8         1.64        1.85        2.14\n",
      "  1.58        2.96        6.9         2.44        2.9        36.\n",
      "  3.06        2.93        3.56        3.53        3.01       11.\n",
      "  3.48        2.23        1.93        2.62        0.05        1.79\n",
      "  5.26        2.72        3.05        3.81        1.7         4.33\n",
      "  2.71        3.66        1.56        2.41        1.63        3.02\n",
      "  1.35        3.          2.78        2.35       16.          2.38\n",
      "  3.61        3.87        2.42        2.28        2.85        1.95\n",
      "  3.79        2.54        2.52        2.98        4.54        3.09\n",
      "  3.89        3.32        2.8         2.79        4.18        2.66\n",
      "  2.68        2.43        2.25        3.8         2.45        5.21      ]\n"
     ]
    }
   ],
   "source": [
    "# Convert to numeric values and replace invalid values with NaN\n",
    "taiwan_air_quality['CO'] = pd.to_numeric(taiwan_air_quality['CO'], errors='coerce')\n",
    "\n",
    "# Replace NaN values with the mean temperature\n",
    "taiwan_air_quality['CO'].fillna(taiwan_air_quality['CO'].mean(), inplace=True)\n",
    "\n",
    "# Print the data type and unique values of AMB_TEMP\n",
    "print(taiwan_air_quality['CO'].dtype)\n",
    "print(taiwan_air_quality['CO'].unique())"
   ]
  },
  {
   "cell_type": "code",
   "execution_count": 9,
   "id": "2ee3f51e",
   "metadata": {},
   "outputs": [
    {
     "name": "stdout",
     "output_type": "stream",
     "text": [
      "float64\n",
      "[ 0.22        0.26832623  0.18        0.39        0.07        0.12\n",
      "  0.38        0.21        0.08        0.3         1.14        0.47\n",
      "  0.4         0.06        0.05        0.81        0.02        0.26\n",
      "  0.68        0.29        0.11        0.14        0.2         0.01\n",
      "  0.91        0.44        0.28        0.13        0.33        0.1\n",
      "  0.34        0.27        0.19        1.11        0.61        0.63\n",
      "  0.16        0.37        0.35        0.23        0.41        0.03\n",
      "  0.17        0.48        0.57        0.54        0.82        0.25\n",
      "  1.35        0.5         0.32        0.53        0.8         0.15\n",
      "  0.04        0.45        0.64        1.09        0.09        0.49\n",
      "  0.56        0.85        0.58        0.36        0.84        0.7\n",
      "  0.62        0.31        1.29        0.          0.24        0.72\n",
      "  0.78       -0.01        0.65        0.88        0.9         1.79\n",
      "  0.93        0.46        0.43        0.51        0.76        0.59\n",
      "  0.67        0.52        1.74        1.18        0.6         0.42\n",
      "  1.02        0.92        1.          0.74        0.79        0.89\n",
      "  1.1         1.21        0.73        1.76        0.66        0.97\n",
      "  1.16        0.69        1.01        0.83        0.77        1.37\n",
      "  1.47        0.94        1.15        1.13        0.86        0.55\n",
      "  0.87        0.71        1.08        1.04        1.03        0.95\n",
      "  1.17        1.23        0.75        1.41        1.33        0.99\n",
      "  1.2         1.43        1.07        1.05        1.59        1.52\n",
      "  1.12        1.22        1.26        1.6       ]\n"
     ]
    }
   ],
   "source": [
    "# Convert to numeric values and replace invalid values with NaN\n",
    "taiwan_air_quality['NMHC'] = pd.to_numeric(taiwan_air_quality['NMHC'], errors='coerce')\n",
    "\n",
    "# Replace NaN values with the mean temperature\n",
    "taiwan_air_quality['NMHC'].fillna(taiwan_air_quality['NMHC'].mean(), inplace=True)\n",
    "\n",
    "# Print the data type and unique values of AMB_TEMP\n",
    "print(taiwan_air_quality['NMHC'].dtype)\n",
    "print(taiwan_air_quality['NMHC'].unique())"
   ]
  },
  {
   "cell_type": "code",
   "execution_count": 10,
   "id": "9e2a8939",
   "metadata": {},
   "outputs": [
    {
     "name": "stdout",
     "output_type": "stream",
     "text": [
      "float64\n",
      "[ 1.7000000e+01  2.8000000e+00  1.4000000e+01  1.0000000e+00\n",
      "  3.1000000e+00  2.7000000e+00  2.4000000e+00  6.0000000e-01\n",
      "  1.6000000e+01  4.8000000e+01  7.0000000e-01  3.8000000e+00\n",
      "  4.3000000e+00  8.8633991e+00  2.7000000e+01  5.2000000e+00\n",
      "  1.7000000e+00  1.8000000e+00  2.5000000e+00  7.5000000e+00\n",
      "  1.5000000e+01  3.5000000e+00  2.9000000e+00  3.9000000e+00\n",
      "  5.1000000e+00  1.5000000e+00  1.4000000e+00  6.7000000e+01\n",
      "  8.0000000e-01  1.2000000e+00  6.5000000e+00  1.9000000e+00\n",
      "  3.0000000e+00  3.1000000e+01  3.4000000e+00  6.8000000e+01\n",
      "  5.0000000e-01  1.1000000e+01  1.1000000e+00  2.0000000e+01\n",
      "  1.0800000e+02  8.2000000e+00  1.2000000e+01  4.9000000e+00\n",
      "  2.2000000e+00  3.7000000e+01  4.0000000e-01  3.3000000e+01\n",
      "  3.4000000e+01  2.0000000e+00  1.6000000e+00  8.6000000e+00\n",
      "  3.6000000e+00  8.1000000e+00  1.0000000e+01  3.0000000e+01\n",
      "  5.9000000e+01  1.3200000e+02  8.2000000e+01  2.3000000e+00\n",
      "  6.3000000e+00  7.2000000e+00  6.1000000e+00  4.7000000e+00\n",
      "  1.3000000e+00  2.5000000e+01  3.2000000e+00  5.6000000e+01\n",
      "  2.6000000e+00  2.3000000e+01  5.7000000e+00  9.1000000e+00\n",
      "  3.3000000e+00  4.2000000e+00  5.8000000e+00  3.0000000e-01\n",
      "  4.4000000e+00  5.3000000e+00  9.0000000e-01  2.1000000e+00\n",
      "  6.9000000e+00  5.0000000e+00  4.6000000e+00  2.4000000e+01\n",
      "  1.9000000e+01  5.4000000e+00  6.0000000e+00  4.1000000e+00\n",
      "  1.8000000e+01  7.1000000e+00  4.5000000e+00  9.9000000e+01\n",
      "  7.4000000e+01  9.8000000e+01  9.7000000e+00  9.5000000e+00\n",
      "  4.4000000e+01  8.8000000e+00  3.7000000e+00  7.8000000e+00\n",
      "  1.3000000e+01  7.6000000e+00  4.1000000e+01  6.5000000e+01\n",
      "  9.2000000e+01  9.3000000e+00  5.3000000e+01  5.1000000e+01\n",
      "  8.9000000e+00  9.0000000e+00  2.2000000e+01  1.0900000e+02\n",
      "  8.8000000e+01  7.7000000e+00  7.1000000e+01  1.1200000e+02\n",
      "  2.6000000e+01  2.0000000e-01  5.5000000e+00  7.0000000e+01\n",
      "  4.9000000e+01  8.0000000e+00  6.6000000e+00  7.9000000e+00\n",
      "  1.0300000e+02  2.1000000e+01  7.4000000e+00  7.6000000e+01\n",
      "  4.8000000e+00  4.0000000e+00  8.4000000e+00  3.8000000e+01\n",
      "  4.6000000e+01  6.6000000e+01  2.8000000e+01  5.9000000e+00\n",
      "  5.0000000e+01  7.3000000e+01  3.9000000e+01  8.7000000e+01\n",
      "  6.8000000e+00  8.5000000e+00  9.6000000e+00  3.2000000e+01\n",
      "  3.5000000e+01  6.4000000e+00  1.3800000e+02  6.2000000e+00\n",
      "  9.4000000e+00  8.7000000e+00  8.3000000e+01  4.3000000e+01\n",
      "  0.0000000e+00  6.1000000e+01  1.1000000e+02  1.7500000e+02\n",
      "  9.2000000e+00  1.1700000e+02  5.7000000e+01  5.8000000e+01\n",
      "  9.9000000e+00  1.1500000e+02  2.9000000e+01  4.7000000e+01\n",
      "  8.1000000e+01  5.6000000e+00  8.3000000e+00  6.4000000e+01\n",
      "  9.8000000e+00  5.4000000e+01  4.2000000e+01  1.0200000e+02\n",
      "  7.2000000e+01  4.5000000e+01  6.7000000e+00  1.0000000e-01\n",
      "  3.6000000e+01  7.3000000e+00  4.0000000e+01  7.9000000e+01\n",
      "  7.8000000e+01  7.5000000e+01  1.0700000e+02  5.5000000e+01\n",
      "  9.1000000e+01  1.3100000e+02  8.6000000e+01  1.6500000e+02\n",
      "  1.0100000e+02  9.6000000e+01  7.7000000e+01  1.0000000e+02\n",
      "  9.0000000e+01  8.0000000e+01  5.2000000e+01  6.2000000e+01\n",
      "  1.1600000e+02  6.0000000e+01  1.7100000e+02  6.3000000e+01\n",
      "  9.7000000e+01 -1.0000000e-01  9.4000000e+01  7.0000000e+00\n",
      "  1.3600000e+02 -3.0000000e-01  8.4000000e+01  1.2400000e+02\n",
      "  9.5000000e+01  1.2200000e+02  1.5400000e+02  1.5300000e+02\n",
      "  9.3000000e+01  2.4100000e+02  6.9000000e+01 -2.0000000e-01\n",
      "  1.1900000e+02  1.1400000e+02  8.9000000e+01  1.3700000e+02\n",
      "  8.5000000e+01  1.7000000e+02  2.0900000e+02  1.0400000e+02\n",
      "  1.0600000e+02  1.0500000e+02 -5.0000000e-01  1.2700000e+02\n",
      "  1.3500000e+02  1.3300000e+02  1.4600000e+02  1.4700000e+02]\n"
     ]
    }
   ],
   "source": [
    "# Convert to numeric values and replace invalid values with NaN\n",
    "taiwan_air_quality['NO'] = pd.to_numeric(taiwan_air_quality['NO'], errors='coerce')\n",
    "\n",
    "# Replace NaN values with the mean temperature\n",
    "taiwan_air_quality['NO'].fillna(taiwan_air_quality['NO'].mean(), inplace=True)\n",
    "\n",
    "# Print the data type and unique values of AMB_TEMP\n",
    "print(taiwan_air_quality['NO'].dtype)\n",
    "print(taiwan_air_quality['NO'].unique())"
   ]
  },
  {
   "cell_type": "code",
   "execution_count": 11,
   "id": "6094a859",
   "metadata": {},
   "outputs": [
    {
     "name": "stdout",
     "output_type": "stream",
     "text": [
      "float64\n",
      "[14.         11.         23.         24.         46.         25.\n",
      "  7.2         9.1        38.         34.          3.8        27.\n",
      "  9.5        17.78782367 30.          6.7         7.3        19.\n",
      "  8.         31.          5.1         9.8        17.         21.\n",
      " 40.         26.         16.          1.8        29.          2.6\n",
      "  2.7        35.          7.5         5.9        20.          4.6\n",
      " 68.          9.         42.          3.6        36.          3.5\n",
      " 32.          5.4        18.          4.         22.         13.\n",
      "  8.4         1.1        51.         41.         43.          9.9\n",
      " 15.          6.6        12.          7.4         4.3         7.9\n",
      "  0.3         5.2        10.          8.5         6.1         8.7\n",
      " 28.          5.6        37.          0.7         1.5         8.6\n",
      " 44.          2.9         3.2         6.2         5.5         9.4\n",
      " 49.          3.4         5.3         6.3         4.1         9.6\n",
      "  6.8         4.9         3.1         7.7         3.3         2.5\n",
      "  2.4        45.         39.          7.1         2.1         2.\n",
      "  6.5        47.          1.3         9.2         1.4         5.7\n",
      " 33.          6.4         9.3         0.8        54.         69.\n",
      "  8.8         8.9         4.2         8.1         5.          3.9\n",
      " 50.          2.3         4.4         1.6        53.          0.9\n",
      " 57.          6.          2.8         9.7         5.8         1.2\n",
      "  0.5        56.         72.          4.8         7.8         6.9\n",
      "  4.5        63.          0.4         3.         58.         55.\n",
      "  8.2         1.          8.3         4.7        48.          7.6\n",
      "  3.7         0.6         1.9        73.          7.          1.7\n",
      "  2.2        61.         59.         52.         60.         66.\n",
      " 62.         65.         67.          0.2       ]\n"
     ]
    }
   ],
   "source": [
    "# Convert to numeric values and replace invalid values with NaN\n",
    "taiwan_air_quality['NO2'] = pd.to_numeric(taiwan_air_quality['NO2'], errors='coerce')\n",
    "\n",
    "# Replace NaN values with the mean temperature\n",
    "taiwan_air_quality['NO2'].fillna(taiwan_air_quality['NO2'].mean(), inplace=True)\n",
    "\n",
    "# Print the data type and unique values of AMB_TEMP\n",
    "print(taiwan_air_quality['NO2'].dtype)\n",
    "print(taiwan_air_quality['NO2'].unique())"
   ]
  },
  {
   "cell_type": "code",
   "execution_count": 12,
   "id": "c00f536a",
   "metadata": {},
   "outputs": [
    {
     "name": "stdout",
     "output_type": "stream",
     "text": [
      "float64\n",
      "[ 31.          14.          37.          25.          49.\n",
      "  27.           7.8          9.7         54.          82.\n",
      "   4.5         26.61956432  57.          12.           9.\n",
      "  21.          10.          28.          38.           5.8\n",
      "  42.          11.          23.          55.          29.\n",
      "  20.          30.           3.3         48.          15.\n",
      "  34.         101.           3.8          7.4         41.\n",
      "   9.5          8.8         18.           5.6         98.\n",
      " 110.           4.1          4.7         50.         141.\n",
      "   7.2         26.          16.          13.           5.1\n",
      "  60.          24.           1.5         84.          88.\n",
      "  77.          45.          44.          59.          97.\n",
      "  17.         164.           4.3         99.          32.\n",
      "   9.4         47.          22.          39.          43.\n",
      "   1.4          6.2          7.6          5.9         19.\n",
      "   1.          36.           1.8         69.          58.\n",
      "   8.3          3.4          4.4         62.           6.3\n",
      "  53.         148.           4.9        109.         149.\n",
      "   7.           8.1         74.          79.          40.\n",
      "   7.5         35.           8.           8.4         51.\n",
      "  78.           3.9          6.9          4.2        107.\n",
      "   2.2        133.         104.           5.2          8.2\n",
      " 102.           9.2          3.1          8.9         96.\n",
      "   8.6          2.1          2.7          3.           7.1\n",
      " 155.           2.4        122.           2.3        139.\n",
      "   9.9          9.3        113.          81.          33.\n",
      "   9.8        146.          92.          46.           8.5\n",
      " 103.         145.          85.           3.2         91.\n",
      "  89.           6.         177.         112.          52.\n",
      "   2.8          7.3          6.8        126.          73.\n",
      " 116.          56.          61.         136.           8.7\n",
      "   5.3          3.7          7.7         72.         174.\n",
      "   6.4          9.6          3.6         66.           1.7\n",
      "   2.6          2.5         87.           5.           5.4\n",
      "   3.5        157.         218.         100.           6.1\n",
      " 156.           2.           6.7         68.          93.\n",
      " 178.          90.          64.           4.          71.\n",
      " 115.           5.7         83.           7.9          6.6\n",
      "  67.         153.           4.6         86.         150.\n",
      "   2.9          9.1          1.6        105.           5.5\n",
      "   4.8        124.          63.           6.5        167.\n",
      " 118.         114.          76.          95.         117.\n",
      " 132.         108.         131.         175.          80.\n",
      " 213.         127.          70.         106.         143.\n",
      " 119.          75.          94.         121.         120.\n",
      "   0.7        130.         202.         158.           1.9\n",
      " 140.         123.          65.         111.         128.\n",
      "   1.3        163.         152.         160.         137.\n",
      " 138.         161.         193.         172.         201.\n",
      " 125.         171.         280.         129.         159.\n",
      "   0.5          1.1        237.         243.           1.2\n",
      " 169.         154.           0.9        144.         166.\n",
      " 135.         184.         192.         151.         142.\n",
      " 191.        ]\n"
     ]
    }
   ],
   "source": [
    "# Convert to numeric values and replace invalid values with NaN\n",
    "taiwan_air_quality['NOx'] = pd.to_numeric(taiwan_air_quality['NOx'], errors='coerce')\n",
    "\n",
    "# Replace NaN values with the mean temperature\n",
    "taiwan_air_quality['NOx'].fillna(taiwan_air_quality['NOx'].mean(), inplace=True)\n",
    "\n",
    "# Print the data type and unique values of AMB_TEMP\n",
    "print(taiwan_air_quality['NOx'].dtype)\n",
    "print(taiwan_air_quality['NOx'].unique())"
   ]
  },
  {
   "cell_type": "code",
   "execution_count": 13,
   "id": "4e516a90",
   "metadata": {},
   "outputs": [
    {
     "name": "stdout",
     "output_type": "stream",
     "text": [
      "float64\n",
      "[ 1.80000000e+01  4.90000000e+01  3.10000000e+00  2.00000000e+01\n",
      "  7.70000000e+00  4.70000000e+01  3.20000000e+01  3.90000000e+01\n",
      "  3.30000000e+01  1.30000000e+01  2.90289474e+01  5.70000000e+01\n",
      "  3.30000000e+00  1.20000000e+01  4.00000000e+01  4.10000000e+01\n",
      "  2.10000000e+00  3.50000000e+01  9.80000000e+00  4.70000000e+00\n",
      "  2.30000000e+01  4.80000000e+01  2.90000000e+01  5.30000000e+01\n",
      "  1.10000000e+01  5.90000000e+01  7.90000000e+01  4.10000000e+00\n",
      "  8.60000000e+01  5.00000000e-01  3.10000000e+01  3.80000000e+01\n",
      "  3.00000000e+01  9.30000000e+00  6.60000000e+00  9.60000000e+00\n",
      "  2.20000000e+01  2.60000000e+01  9.50000000e+01  4.20000000e+01\n",
      "  5.30000000e+00  2.50000000e+01  4.40000000e+01  7.50000000e+00\n",
      "  5.40000000e+01  3.60000000e+01  2.00000000e+00  3.20000000e+00\n",
      "  1.00000000e+00  4.30000000e+01  3.40000000e+01  7.10000000e+00\n",
      "  4.50000000e+01  8.30000000e+00  1.50000000e+01  1.70000000e+01\n",
      "  9.00000000e+00  2.30000000e+00  1.60000000e+01  7.10000000e+01\n",
      "  5.20000000e+00  6.30000000e+00  6.90000000e+01  5.80000000e+00\n",
      "  3.40000000e+00  1.90000000e+00  8.00000000e-01  1.90000000e+01\n",
      "  7.00000000e+01  3.00000000e+00  2.20000000e+00  8.20000000e+00\n",
      "  4.60000000e+01  3.70000000e+01  2.80000000e+01  2.10000000e+01\n",
      "  5.90000000e+00  1.30000000e+00  1.40000000e+01  6.00000000e+01\n",
      "  6.00000000e+00  5.50000000e+01  5.70000000e+00  7.40000000e+01\n",
      "  6.80000000e+01  2.40000000e+01  8.40000000e+00  3.80000000e+00\n",
      "  1.40000000e+00  6.50000000e+00  3.50000000e+00  5.10000000e+00\n",
      "  8.80000000e+00  4.80000000e+00  5.80000000e+01  6.80000000e+00\n",
      "  7.80000000e+00  6.70000000e+01  5.10000000e+01  7.30000000e+01\n",
      "  4.40000000e+00  6.60000000e+01  8.60000000e+00  3.70000000e+00\n",
      "  7.90000000e+00  7.40000000e+00  9.70000000e+00  2.70000000e+01\n",
      "  1.02000000e+02  6.40000000e+01  8.70000000e+01  4.30000000e+00\n",
      "  9.10000000e+00  5.20000000e+01  4.20000000e+00  9.50000000e+00\n",
      "  9.60000000e+01  9.00000000e+01  3.60000000e+00  6.90000000e+00\n",
      "  1.60000000e+00  7.20000000e+01  1.00000000e+01  6.20000000e+01\n",
      "  7.70000000e+01  9.90000000e+00  6.30000000e+01  2.50000000e+00\n",
      "  7.00000000e-01  6.70000000e+00  7.30000000e+00  5.40000000e+00\n",
      "  5.60000000e+01  8.80000000e+01  1.20000000e+00  4.90000000e+00\n",
      "  2.90000000e+00  6.10000000e+01  1.15000000e+02  6.40000000e+00\n",
      "  9.20000000e+00  4.50000000e+00  9.00000000e-01  4.60000000e+00\n",
      "  6.10000000e+00  5.00000000e+00  5.00000000e+01  6.50000000e+01\n",
      "  5.50000000e+00  8.90000000e+00  9.40000000e+00  8.70000000e+00\n",
      "  2.60000000e+00  5.60000000e+00  2.70000000e+00  8.10000000e+00\n",
      "  2.40000000e+00  1.50000000e+00  7.20000000e+00  1.80000000e+00\n",
      "  8.50000000e+01  6.00000000e-01  8.50000000e+00  8.00000000e+00\n",
      "  1.06000000e+02  7.00000000e+00  1.00000000e+02  4.00000000e+00\n",
      "  1.10000000e+00  3.90000000e+00  9.40000000e+01  1.70000000e+00\n",
      "  8.00000000e+01  7.60000000e+00  4.00000000e-01  1.20000000e+02\n",
      "  2.80000000e+00  6.20000000e+00  7.60000000e+01  8.20000000e+01\n",
      "  1.00000000e-01  1.08000000e+02  7.50000000e+01  3.00000000e-01\n",
      "  9.80000000e+01  1.03000000e+02  2.00000000e-01  1.01000000e+02\n",
      "  8.40000000e+01  9.30000000e+01  8.30000000e+01 -1.00000000e+00\n",
      "  8.10000000e+01  1.39000000e+02  9.90000000e+01  9.70000000e+01\n",
      "  7.80000000e+01  9.10000000e+01  1.10000000e+02  1.11000000e+02\n",
      "  1.07000000e+02  0.00000000e+00  9.20000000e+01]\n"
     ]
    }
   ],
   "source": [
    "# Convert to numeric values and replace invalid values with NaN\n",
    "taiwan_air_quality['O3'] = pd.to_numeric(taiwan_air_quality['O3'], errors='coerce')\n",
    "\n",
    "# Replace NaN values with the mean temperature\n",
    "taiwan_air_quality['O3'].fillna(taiwan_air_quality['O3'].mean(), inplace=True)\n",
    "\n",
    "# Print the data type and unique values of AMB_TEMP\n",
    "print(taiwan_air_quality['O3'].dtype)\n",
    "print(taiwan_air_quality['O3'].unique())"
   ]
  },
  {
   "cell_type": "code",
   "execution_count": 14,
   "id": "4886f85a",
   "metadata": {},
   "outputs": [
    {
     "name": "stdout",
     "output_type": "stream",
     "text": [
      "float64\n",
      "[4.64705882 4.5        4.2        4.         6.4        5.9\n",
      " 4.6        4.3        4.4        4.9        4.1        5.\n",
      " 6.         5.4        5.7        5.2        4.7        5.3\n",
      " 3.9        5.1        5.6        4.8        3.7        5.8\n",
      " 6.7        3.6        5.5        3.8        6.3        6.1       ]\n"
     ]
    }
   ],
   "source": [
    "# Convert to numeric values and replace invalid values with NaN\n",
    "taiwan_air_quality['PH_RAIN'] = pd.to_numeric(taiwan_air_quality['PH_RAIN'], errors='coerce')\n",
    "\n",
    "# Replace NaN values with the mean temperature\n",
    "taiwan_air_quality['PH_RAIN'].fillna(taiwan_air_quality['PH_RAIN'].mean(), inplace=True)\n",
    "\n",
    "# Print the data type and unique values of AMB_TEMP\n",
    "print(taiwan_air_quality['PH_RAIN'].dtype)\n",
    "print(taiwan_air_quality['PH_RAIN'].unique())"
   ]
  },
  {
   "cell_type": "code",
   "execution_count": 15,
   "id": "a04d90eb",
   "metadata": {},
   "outputs": [
    {
     "name": "stdout",
     "output_type": "stream",
     "text": [
      "float64\n",
      "[ 56.          26.          28.          38.          99.\n",
      "  48.          42.          41.          31.          78.\n",
      "  53.          46.          12.          30.          41.85819121\n",
      "  11.          27.          40.          21.          77.\n",
      "  22.          34.          51.          72.          66.\n",
      "  13.          44.          94.          33.          92.\n",
      "  29.          18.          36.          89.          32.\n",
      "  23.          59.          75.         143.          49.\n",
      "  35.           4.          60.          85.          39.\n",
      "  64.          61.          74.          15.          84.\n",
      "  37.          68.          54.          24.          14.\n",
      "  65.          52.          70.          17.           3.\n",
      "  20.          55.         126.          80.          57.\n",
      "  16.          43.          67.         146.          45.\n",
      "  62.         123.         101.          25.          58.\n",
      "  19.          81.          50.         128.         141.\n",
      "  10.         103.          91.          47.         100.\n",
      "  71.          79.           7.          83.          73.\n",
      "  82.           9.          90.          87.           8.\n",
      "  63.          86.          93.         114.           2.\n",
      " 108.          98.         117.         131.         112.\n",
      " 102.          96.         121.           1.         140.\n",
      "  69.         109.         111.          76.           0.\n",
      " 160.         105.          95.         133.         107.\n",
      " 174.         150.         110.           6.         156.\n",
      "  88.           5.         180.         113.         132.\n",
      "  97.         124.         106.         119.         116.\n",
      " 135.         137.         159.         136.         142.\n",
      " 134.         148.         147.         120.         127.\n",
      " 158.         171.         122.         118.         144.\n",
      " 104.         130.         157.         162.         115.\n",
      " 138.         125.         145.         139.         181.\n",
      " 161.         153.         169.         152.         129.\n",
      " 149.         165.        ]\n"
     ]
    }
   ],
   "source": [
    "# Convert to numeric values and replace invalid values with NaN\n",
    "taiwan_air_quality['PM10'] = pd.to_numeric(taiwan_air_quality['PM10'], errors='coerce')\n",
    "\n",
    "# Replace NaN values with the mean temperature\n",
    "taiwan_air_quality['PM10'].fillna(taiwan_air_quality['PM10'].mean(), inplace=True)\n",
    "\n",
    "# Print the data type and unique values of AMB_TEMP\n",
    "print(taiwan_air_quality['PM10'].dtype)\n",
    "print(taiwan_air_quality['PM10'].unique())"
   ]
  },
  {
   "cell_type": "code",
   "execution_count": 16,
   "id": "daab3743",
   "metadata": {},
   "outputs": [
    {
     "name": "stdout",
     "output_type": "stream",
     "text": [
      "float64\n",
      "[ 19.          22.           9.          13.          38.\n",
      "  30.          21.          25.           6.          41.\n",
      "  12.          37.           8.          18.66170546  18.\n",
      "  20.          11.          27.           5.          44.\n",
      "  24.          17.          15.          28.          35.\n",
      "   3.          36.          32.           0.          16.\n",
      "  49.          14.          54.           2.          31.\n",
      "  33.          87.          10.          43.          48.\n",
      "  45.          40.           1.          29.           4.\n",
      "   7.          23.          26.          60.          34.\n",
      "  76.          64.          56.          92.          39.\n",
      "  53.          47.          52.          57.          51.\n",
      "  71.          62.          68.          58.          66.\n",
      "  82.          42.           2.2         46.          50.\n",
      "  75.          83.          73.          55.          59.\n",
      "  63.          79.          69.          86.          67.\n",
      "  70.          61.           3.8         77.           2.3\n",
      "  84.          65.          72.          74.           5.8\n",
      "   9.1         78.           4.7         91.           2.9\n",
      "   3.4          3.2          6.8        113.          80.\n",
      "   2.8         99.          81.          89.        ]\n"
     ]
    }
   ],
   "source": [
    "\n",
    "# Convert to numeric values and replace invalid values with NaN\n",
    "taiwan_air_quality['PM2.5'] = pd.to_numeric(taiwan_air_quality['PM2.5'], errors='coerce')\n",
    "\n",
    "# Replace NaN values with the mean temperature\n",
    "taiwan_air_quality['PM2.5'].fillna(taiwan_air_quality['PM2.5'].mean(), inplace=True)\n",
    "\n",
    "# Print the data type and unique values of AMB_TEMP\n",
    "print(taiwan_air_quality['PM2.5'].dtype)\n",
    "print(taiwan_air_quality['PM2.5'].unique())"
   ]
  },
  {
   "cell_type": "code",
   "execution_count": 17,
   "id": "f21fdf9a",
   "metadata": {},
   "outputs": [
    {
     "name": "stdout",
     "output_type": "stream",
     "text": [
      "float64\n",
      "[4.72244508e+00 8.00000000e-01 8.90000000e+01 2.00000000e+00\n",
      " 1.30000000e+01 3.60000000e+00 1.20000000e+00 2.00000000e-01\n",
      " 5.20000000e+00 1.50000000e+01 1.40000000e+00 2.80000000e+00\n",
      " 4.60000000e+01 4.00000000e-01 1.00000000e+00 3.60000000e+01\n",
      " 1.60000000e+00 2.40000000e+00 3.00000000e+00 1.80000000e+00\n",
      " 9.20000000e+00 7.00000000e+00 1.10000000e+01 2.60000000e+00\n",
      " 6.00000000e-01 2.60000000e+01 9.00000000e+00 4.80000000e+00\n",
      " 2.20000000e+00 4.00000000e+00 1.60000000e+01 8.20000000e+01\n",
      " 9.40000000e+00 4.60000000e+00 9.60000000e+00 3.90000000e+01\n",
      " 9.80000000e+01 1.20000000e+01 3.40000000e+00 2.20000000e+01\n",
      " 9.80000000e+00 3.20000000e+00 6.10000000e+01 4.20000000e+00\n",
      " 8.10000000e+01 1.40000000e+01 4.80000000e+01 3.40000000e+01\n",
      " 4.10000000e+01 4.40000000e+00 6.80000000e+01 7.60000000e+00\n",
      " 1.66000000e+02 3.80000000e+01 6.60000000e+01 7.90000000e+01\n",
      " 1.00000000e+01 6.20000000e+00 5.60000000e+00 6.00000000e+00\n",
      " 3.80000000e+00 5.20000000e+01 6.40000000e+00 6.70000000e+01\n",
      " 8.20000000e+00 7.20000000e+01 8.00000000e+00 1.80000000e+01\n",
      " 6.60000000e+00 6.50000000e+01 5.80000000e+00 3.00000000e+01\n",
      " 5.90000000e+01 8.60000000e+00 2.10000000e+01 3.10000000e+01\n",
      " 4.30000000e+01 5.50000000e+01 9.00000000e+01 1.70000000e+01\n",
      " 5.80000000e+01 2.30000000e+01 2.00000000e+01 7.40000000e+00\n",
      " 7.80000000e+01 4.50000000e+01 5.00000000e+00 3.19000000e+02\n",
      " 2.50000000e+01 8.80000000e+00 4.16000000e+02 9.30000000e+01\n",
      " 4.90000000e+01 5.00000000e+01 6.80000000e+00]\n"
     ]
    }
   ],
   "source": [
    "# Convert to numeric values and replace invalid values with NaN\n",
    "taiwan_air_quality['RAINFALL'] = pd.to_numeric(taiwan_air_quality['RAINFALL'], errors='coerce')\n",
    "\n",
    "# Replace NaN values with the mean temperature\n",
    "taiwan_air_quality['RAINFALL'].fillna(taiwan_air_quality['RAINFALL'].mean(), inplace=True)\n",
    "\n",
    "# Print the data type and unique values of AMB_TEMP\n",
    "print(taiwan_air_quality['RAINFALL'].dtype)\n",
    "print(taiwan_air_quality['RAINFALL'].unique())"
   ]
  },
  {
   "cell_type": "code",
   "execution_count": 18,
   "id": "44a007e7",
   "metadata": {},
   "outputs": [
    {
     "name": "stdout",
     "output_type": "stream",
     "text": [
      "float64\n",
      "[  59.47529412   10.           44.           57.            5.8\n",
      "  340.           11.           54.           21.            7.9\n",
      "   92.            3.9           3.4           4.            6.\n",
      "    7.6           7.3           9.9          40.            4.1\n",
      "   14.          182.            6.8           4.8          39.\n",
      "   15.           36.            7.2         119.            3.5\n",
      "  104.           16.           27.            4.6          99.\n",
      "    5.           64.            9.2           9.4          18.\n",
      "   73.           50.            3.8         151.            6.6\n",
      "  153.           37.            5.2         127.           48.\n",
      "  187.           51.           33.           72.           12.\n",
      "   46.          105.           32.          171.          106.\n",
      "   30.          192.            7.8         114.           63.\n",
      " 1170.           17.            7.7          70.           20.\n",
      "    7.1           5.6           6.3          19.          343.\n",
      "    9.5          42.           55.           85.           59.\n",
      "  656.           77.           83.            6.2          56.\n",
      "    4.2          52.          117.           62.           13.\n",
      "  271.          111.           28.           26.           93.\n",
      "   84.            6.5           5.7           4.3         190.\n",
      "  499.          123.           43.          233.           29.\n",
      "   45.          238.            8.8          38.           98.\n",
      "    6.1           3.3           5.9           9.6       ]\n"
     ]
    }
   ],
   "source": [
    "# Convert to numeric values and replace invalid values with NaN\n",
    "taiwan_air_quality['RAIN_COND'] = pd.to_numeric(taiwan_air_quality['RAIN_COND'], errors='coerce')\n",
    "\n",
    "# Replace NaN values with the mean temperature\n",
    "taiwan_air_quality['RAIN_COND'].fillna(taiwan_air_quality['RAIN_COND'].mean(), inplace=True)\n",
    "\n",
    "# Print the data type and unique values of AMB_TEMP\n",
    "print(taiwan_air_quality['RAIN_COND'].dtype)\n",
    "print(taiwan_air_quality['RAIN_COND'].unique())"
   ]
  },
  {
   "cell_type": "code",
   "execution_count": 19,
   "id": "dfdd88d1",
   "metadata": {},
   "outputs": [
    {
     "name": "stdout",
     "output_type": "stream",
     "text": [
      "float64\n",
      "[ 68.          58.          75.88233107  80.          77.\n",
      "  64.          88.          82.          51.          94.\n",
      "  81.          79.          72.          84.          70.\n",
      "  54.          78.          66.          69.          92.\n",
      "  91.          57.          59.          85.         100.\n",
      "  76.           4.4         87.          75.          49.\n",
      "  73.          32.          83.          95.          55.\n",
      "  89.          71.          62.          45.          99.\n",
      "  67.          46.          86.          74.          97.\n",
      "  65.          98.          60.          90.          56.\n",
      "  43.          93.          50.           2.5         48.\n",
      "  96.          63.          61.          41.           3.8\n",
      "  39.          52.          47.          42.          44.\n",
      "  53.           1.6         40.          37.           2.4\n",
      "   3.           0.8         34.          23.           3.1\n",
      "  36.           1.8         16.          11.          35.\n",
      "   0.5          0.7          2.           5.3          4.1\n",
      "  28.           3.2          1.7         27.          26.\n",
      "  33.           1.3         38.           6.8          2.2\n",
      "   2.9         31.        ]\n"
     ]
    }
   ],
   "source": [
    "# Convert to numeric values and replace invalid values with NaN\n",
    "taiwan_air_quality['RH'] = pd.to_numeric(taiwan_air_quality['RH'], errors='coerce')\n",
    "\n",
    "# Replace NaN values with the mean temperature\n",
    "taiwan_air_quality['RH'].fillna(taiwan_air_quality['RH'].mean(), inplace=True)\n",
    "\n",
    "# Print the data type and unique values of AMB_TEMP\n",
    "print(taiwan_air_quality['RH'].dtype)\n",
    "print(taiwan_air_quality['RH'].unique())"
   ]
  },
  {
   "cell_type": "code",
   "execution_count": 20,
   "id": "85e38804",
   "metadata": {},
   "outputs": [
    {
     "name": "stdout",
     "output_type": "stream",
     "text": [
      "float64\n",
      "[ 2.00000000e+00  2.60000000e+00  4.10000000e+00  2.20000000e+00\n",
      "  1.90000000e+01  3.90000000e+00  8.50000000e+00  1.90000000e+00\n",
      "  1.70000000e+00  5.10000000e+00  1.80000000e+00  7.00000000e-01\n",
      "  2.10000000e+00  1.30000000e+00  3.58456701e+00  6.50000000e+00\n",
      "  1.10000000e+00  1.00000000e+00  2.30000000e+00  3.20000000e+00\n",
      "  1.60000000e+00  4.30000000e+00  2.50000000e+00  3.70000000e+00\n",
      "  4.00000000e+00  6.20000000e+00  9.00000000e-01  4.80000000e+00\n",
      "  2.70000000e+00  9.50000000e+00  1.50000000e+00  3.00000000e-01\n",
      "  3.10000000e+00  1.40000000e+00  5.40000000e+00  4.70000000e+00\n",
      "  2.80000000e+00  4.20000000e+00  1.40000000e+01  6.70000000e+00\n",
      "  1.30000000e+01  3.30000000e+00  4.90000000e+00  3.00000000e+00\n",
      "  3.80000000e+00  3.40000000e+00  8.70000000e+00  3.50000000e+00\n",
      "  2.40000000e+00  1.10000000e+01  6.00000000e+00  2.90000000e+00\n",
      "  1.20000000e+00  7.40000000e+00  7.00000000e+00  5.80000000e+00\n",
      "  8.00000000e-01  7.10000000e+00  7.70000000e+00  3.60000000e+00\n",
      "  5.70000000e+00  2.70000000e+01  1.00000000e+01  6.40000000e+00\n",
      "  4.60000000e+00  9.10000000e+00  7.80000000e+00  0.00000000e+00\n",
      "  4.40000000e+00  5.00000000e+00  5.90000000e+00  6.00000000e-01\n",
      "  7.50000000e+00  1.50000000e+01  8.30000000e+00  7.20000000e+00\n",
      "  6.80000000e+00  8.40000000e+00  4.50000000e+00  5.30000000e+00\n",
      "  4.00000000e-01  5.60000000e+00  7.30000000e+00  8.00000000e+00\n",
      "  9.90000000e+00  6.10000000e+00  8.20000000e+00  9.00000000e+00\n",
      "  7.90000000e+00  9.20000000e+00  5.20000000e+00  5.50000000e+00\n",
      "  1.70000000e+01  7.60000000e+00  6.90000000e+00  9.70000000e+00\n",
      "  1.20000000e+01  6.30000000e+00  2.00000000e-01  2.10000000e+01\n",
      "  1.80000000e+01  8.10000000e+00  8.90000000e+00  9.30000000e+00\n",
      "  3.03000000e+02  8.60000000e+00  1.00000000e-01  8.80000000e+00\n",
      "  3.20000000e+01  5.00000000e-01  6.60000000e+00  2.00000000e+01\n",
      "  2.20000000e+01  1.66000000e+02  1.67000000e+02  9.40000000e+00\n",
      "  1.60000000e+01  2.08000000e+02 -2.00000000e-01  3.80000000e+01\n",
      "  2.80000000e+01  1.68000000e+02  2.50000000e+01  2.30000000e+01\n",
      "  9.80000000e+00  3.22000000e+02 -5.00000000e-01  5.20000000e+01\n",
      "  3.05000000e+02  2.90000000e+01  3.02000000e+02  1.61000000e+02\n",
      "  3.00000000e+01  2.60000000e+01  1.29000000e+02 -3.00000000e-01\n",
      "  9.60000000e+00  9.10000000e+01]\n"
     ]
    }
   ],
   "source": [
    "\n",
    "# Convert to numeric values and replace invalid values with NaN\n",
    "taiwan_air_quality['SO2'] = pd.to_numeric(taiwan_air_quality['SO2'], errors='coerce')\n",
    "\n",
    "# Replace NaN values with the mean temperature\n",
    "taiwan_air_quality['SO2'].fillna(taiwan_air_quality['SO2'].mean(), inplace=True)\n",
    "\n",
    "# Print the data type and unique values of AMB_TEMP\n",
    "print(taiwan_air_quality['SO2'].dtype)\n",
    "print(taiwan_air_quality['SO2'].unique())"
   ]
  },
  {
   "cell_type": "code",
   "execution_count": 21,
   "id": "85c97b02",
   "metadata": {},
   "outputs": [
    {
     "name": "stdout",
     "output_type": "stream",
     "text": [
      "float64\n",
      "[2.1        2.20783617 2.5        2.         1.9        2.2\n",
      " 1.8        2.3        3.5        2.4        1.7        2.8\n",
      " 3.8        2.9        3.4        2.6        1.6        3.1\n",
      " 3.         2.7        3.6        3.2        4.         3.3\n",
      " 4.4        3.7        3.9        4.3        4.5        4.8       ]\n"
     ]
    }
   ],
   "source": [
    "\n",
    "# Convert to numeric values and replace invalid values with NaN\n",
    "taiwan_air_quality['THC'] = pd.to_numeric(taiwan_air_quality['THC'], errors='coerce')\n",
    "\n",
    "# Replace NaN values with the mean temperature\n",
    "taiwan_air_quality['THC'].fillna(taiwan_air_quality['THC'].mean(), inplace=True)\n",
    "\n",
    "# Print the data type and unique values of AMB_TEMP\n",
    "print(taiwan_air_quality['THC'].dtype)\n",
    "print(taiwan_air_quality['THC'].unique())"
   ]
  },
  {
   "cell_type": "code",
   "execution_count": 22,
   "id": "24393ee0",
   "metadata": {},
   "outputs": [
    {
     "name": "stdout",
     "output_type": "stream",
     "text": [
      "float64\n",
      "[ 1.36394148  0.1         0.          0.9         0.7         7.\n",
      "  4.          7.9         2.7         0.2         0.3         2.\n",
      "  1.7         6.5         2.1         5.8         5.3         3.6\n",
      "  4.2         7.2         9.3         4.4         9.8         1.1\n",
      "  9.2         2.6         4.1         8.9         1.3         4.7\n",
      "  0.6         4.9         0.5         7.5         2.9         3.\n",
      "  3.8         4.5         0.4         3.7         1.8         2.3\n",
      "  3.1         4.6         1.5         5.2         3.5         5.6\n",
      "  1.9        10.          5.7         7.1         7.3         4.3\n",
      "  9.9         1.          3.9         6.3         7.4         1.4\n",
      "  2.8         8.6         6.9         5.9         3.3         1.6\n",
      "  2.2         6.1         8.8         0.8         3.2         7.7\n",
      "  2.5         1.2         6.7         5.          6.8         8.4\n",
      "  8.3         5.4         2.4         3.4         8.5         7.6\n",
      "  6.          4.8         9.7         6.6         6.2         7.8\n",
      "  9.          8.          9.6         9.4        11.          5.1\n",
      "  6.4         9.1       ]\n"
     ]
    }
   ],
   "source": [
    "# Convert to numeric values and replace invalid values with NaN\n",
    "taiwan_air_quality['UVB'] = pd.to_numeric(taiwan_air_quality['UVB'], errors='coerce')\n",
    "\n",
    "# Replace NaN values with the mean temperature\n",
    "taiwan_air_quality['UVB'].fillna(taiwan_air_quality['UVB'].mean(), inplace=True)\n",
    "\n",
    "# Print the data type and unique values of AMB_TEMP\n",
    "print(taiwan_air_quality['UVB'].dtype)\n",
    "print(taiwan_air_quality['UVB'].unique())"
   ]
  },
  {
   "cell_type": "code",
   "execution_count": 23,
   "id": "ed52710f",
   "metadata": {},
   "outputs": [
    {
     "name": "stdout",
     "output_type": "stream",
     "text": [
      "float64\n",
      "[115.         273.         146.52239521  61.         110.\n",
      " 241.          85.          54.          51.          78.\n",
      "  19.         180.          79.          66.         149.\n",
      "  53.         179.         254.         240.         267.\n",
      " 169.          89.         118.         306.          38.\n",
      " 177.         101.         105.         249.         294.\n",
      "  56.         290.          76.         125.         238.\n",
      "  50.         253.         274.          46.         215.\n",
      " 158.          83.         300.         208.          82.\n",
      "  92.         127.         236.         135.         132.\n",
      "  52.         250.          74.          41.         161.\n",
      " 315.          99.          43.         181.          67.\n",
      " 186.         220.         283.         308.         193.\n",
      "  94.         120.          84.          80.         268.\n",
      " 201.          91.         313.         205.         242.\n",
      " 226.         123.          69.         145.          73.\n",
      "  81.         247.         141.         176.         276.\n",
      " 280.          96.          97.         199.         318.\n",
      "  71.          62.          47.         229.         269.\n",
      " 282.         146.         295.         128.         263.\n",
      " 287.          63.         266.          87.         321.\n",
      " 102.          23.         239.         234.         210.\n",
      " 347.         255.         217.         356.         329.\n",
      "  75.         262.          70.         157.         219.\n",
      " 148.          98.          58.         235.          86.\n",
      "  64.         345.         106.          49.         100.\n",
      " 154.         213.         311.         121.          95.\n",
      "  60.         211.         114.         302.         116.\n",
      " 175.          57.         129.         214.         221.\n",
      " 137.         108.         258.         278.          55.\n",
      " 151.         272.          10.         167.         248.\n",
      " 359.         292.          44.         155.          59.\n",
      " 136.         198.         113.         111.         104.\n",
      " 203.         200.         271.         304.          77.\n",
      " 244.         152.          88.         194.         130.\n",
      " 243.         126.         259.         296.         119.\n",
      " 350.          14.         212.          90.         172.\n",
      "   9.6        170.         150.         173.         299.\n",
      " 197.         260.          35.         222.          65.\n",
      " 191.         336.         134.         320.         227.\n",
      "  42.         293.         112.          48.          40.\n",
      "  68.         223.         165.           7.6         26.\n",
      "  93.         143.         122.         156.         264.\n",
      " 138.         307.         228.         195.         188.\n",
      " 216.         230.         202.         231.         117.\n",
      " 277.         209.         189.         265.         232.\n",
      " 107.         109.         168.         196.          31.\n",
      "  36.         131.         358.         183.          72.\n",
      " 124.         163.         286.         261.         316.\n",
      " 233.         284.         314.         178.         303.\n",
      "  39.         182.         224.         352.         160.\n",
      " 289.          30.         147.         312.         275.\n",
      " 270.         285.         288.         257.         185.\n",
      "   4.7        139.         334.         252.          25.\n",
      " 144.         166.          17.         153.         103.\n",
      "  34.         344.         225.         140.         256.\n",
      "   6.7        245.         310.         279.          45.\n",
      " 218.         319.         190.          27.         357.\n",
      "  28.         164.          32.         192.          15.\n",
      " 305.         325.         360.         331.         333.\n",
      " 251.         339.         174.         246.          20.\n",
      " 341.         204.         291.          33.         159.\n",
      "  12.         207.           6.         187.         142.\n",
      "  11.          13.          37.          22.         330.\n",
      " 323.           1.9        301.           0.6        297.\n",
      "   4.2          5.7        322.         184.          21.\n",
      "   9.8         29.           7.         309.           4.4\n",
      " 342.         171.         237.         298.         327.\n",
      " 343.           0.         317.         328.         206.\n",
      " 353.         162.         281.           5.2        338.\n",
      " 337.          24.         324.         355.           6.8\n",
      " 332.         326.           8.3          7.2        133.\n",
      "   5.8          4.8        346.           1.8          6.3\n",
      " 340.         335.          16.         349.           2.5\n",
      "   3.4        354.         351.         348.           7.1\n",
      "   9.1          2.8          2.6          4.3          8.\n",
      "   2.4          1.5          8.9          8.6          2.7\n",
      "  18.           3.1          1.7          6.1          5.4\n",
      "   0.4          9.9       ]\n"
     ]
    }
   ],
   "source": [
    "\n",
    "# Convert to numeric values and replace invalid values with NaN\n",
    "taiwan_air_quality['WD_HR'] = pd.to_numeric(taiwan_air_quality['WD_HR'], errors='coerce')\n",
    "\n",
    "# Replace NaN values with the mean temperature\n",
    "taiwan_air_quality['WD_HR'].fillna(taiwan_air_quality['WD_HR'].mean(), inplace=True)\n",
    "\n",
    "# Print the data type and unique values of AMB_TEMP\n",
    "print(taiwan_air_quality['WD_HR'].dtype)\n",
    "print(taiwan_air_quality['WD_HR'].unique())"
   ]
  },
  {
   "cell_type": "code",
   "execution_count": 24,
   "id": "50bbb443",
   "metadata": {},
   "outputs": [
    {
     "name": "stdout",
     "output_type": "stream",
     "text": [
      "float64\n",
      "[115.         273.         146.52239521  61.         110.\n",
      " 241.          85.          54.          51.          78.\n",
      "  19.         180.          79.          66.         149.\n",
      "  53.         179.         254.         240.         267.\n",
      " 169.          89.         118.         306.          38.\n",
      " 177.         101.         105.         249.         294.\n",
      "  56.         290.          76.         125.         238.\n",
      "  50.         253.         274.          46.         215.\n",
      " 158.          83.         300.         208.          82.\n",
      "  92.         127.         236.         135.         132.\n",
      "  52.         250.          74.          41.         161.\n",
      " 315.          99.          43.         181.          67.\n",
      " 186.         220.         283.         308.         193.\n",
      "  94.         120.          84.          80.         268.\n",
      " 201.          91.         313.         205.         242.\n",
      " 226.         123.          69.         145.          73.\n",
      "  81.         247.         141.         176.         276.\n",
      " 280.          96.          97.         199.         318.\n",
      "  71.          62.          47.         229.         269.\n",
      " 282.         146.         295.         128.         263.\n",
      " 287.          63.         266.          87.         321.\n",
      " 102.          23.         239.         234.         210.\n",
      " 347.         255.         217.         356.         329.\n",
      "  75.         262.          70.         157.         219.\n",
      " 148.          98.          58.         235.          86.\n",
      "  64.         345.         106.          49.         100.\n",
      " 154.         213.         311.         121.          95.\n",
      "  60.         211.         114.         302.         116.\n",
      " 175.          57.         129.         214.         221.\n",
      " 137.         108.         258.         278.          55.\n",
      " 151.         272.          10.         167.         248.\n",
      " 359.         292.          44.         155.          59.\n",
      " 136.         198.         113.         111.         104.\n",
      " 203.         200.         271.         304.          77.\n",
      " 244.         152.          88.         194.         130.\n",
      " 243.         126.         259.         296.         119.\n",
      " 350.          14.         212.          90.         172.\n",
      "   9.6        170.         150.         173.         299.\n",
      " 197.         260.          35.         222.          65.\n",
      " 191.         336.         134.         320.         227.\n",
      "  42.         293.         112.          48.          40.\n",
      "  68.         223.         165.           7.6         26.\n",
      "  93.         143.         122.         156.         264.\n",
      " 138.         307.         228.         195.         188.\n",
      " 216.         230.         202.         231.         117.\n",
      " 277.         209.         189.         265.         232.\n",
      " 107.         109.         168.         196.          31.\n",
      "  36.         131.         358.         183.          72.\n",
      " 124.         163.         286.         261.         316.\n",
      " 233.         284.         314.         178.         303.\n",
      "  39.         182.         224.         352.         160.\n",
      " 289.          30.         147.         312.         275.\n",
      " 270.         285.         288.         257.         185.\n",
      "   4.7        139.         334.         252.          25.\n",
      " 144.         166.          17.         153.         103.\n",
      "  34.         344.         225.         140.         256.\n",
      "   6.7        245.         310.         279.          45.\n",
      " 218.         319.         190.          27.         357.\n",
      "  28.         164.          32.         192.          15.\n",
      " 305.         325.         360.         331.         333.\n",
      " 251.         339.         174.         246.          20.\n",
      " 341.         204.         291.          33.         159.\n",
      "  12.         207.           6.         187.         142.\n",
      "  11.          13.          37.          22.         330.\n",
      " 323.           1.9        301.           0.6        297.\n",
      "   4.2          5.7        322.         184.          21.\n",
      "   9.8         29.           7.         309.           4.4\n",
      " 342.         171.         237.         298.         327.\n",
      " 343.           0.         317.         328.         206.\n",
      " 353.         162.         281.           5.2        338.\n",
      " 337.          24.         324.         355.           6.8\n",
      " 332.         326.           8.3          7.2        133.\n",
      "   5.8          4.8        346.           1.8          6.3\n",
      " 340.         335.          16.         349.           2.5\n",
      "   3.4        354.         351.         348.           7.1\n",
      "   9.1          2.8          2.6          4.3          8.\n",
      "   2.4          1.5          8.9          8.6          2.7\n",
      "  18.           3.1          1.7          6.1          5.4\n",
      "   0.4          9.9       ]\n"
     ]
    }
   ],
   "source": [
    "# Convert to numeric values and replace invalid values with NaN\n",
    "taiwan_air_quality['WD_HR'] = pd.to_numeric(taiwan_air_quality['WD_HR'], errors='coerce')\n",
    "\n",
    "# Replace NaN values with the mean temperature\n",
    "taiwan_air_quality['WD_HR'].fillna(taiwan_air_quality['WD_HR'].mean(), inplace=True)\n",
    "\n",
    "# Print the data type and unique values of AMB_TEMP\n",
    "print(taiwan_air_quality['WD_HR'].dtype)\n",
    "print(taiwan_air_quality['WD_HR'].unique())"
   ]
  },
  {
   "cell_type": "code",
   "execution_count": 25,
   "id": "bbab8ffb",
   "metadata": {},
   "outputs": [
    {
     "name": "stdout",
     "output_type": "stream",
     "text": [
      "float64\n",
      "[9.90000000e+01 2.77000000e+02 1.46884725e+02 6.00000000e+01\n",
      " 1.17000000e+02 2.58000000e+02 4.50000000e+01 5.50000000e+01\n",
      " 5.00000000e+01 7.10000000e+01 1.10000000e+02 1.79000000e+02\n",
      " 7.20000000e+01 2.93000000e+02 1.50000000e+02 4.80000000e+01\n",
      " 1.86000000e+02 2.38000000e+02 2.06000000e+02 2.70000000e+02\n",
      " 1.59000000e+02 9.30000000e+01 1.23000000e+02 3.10000000e+02\n",
      " 4.30000000e+01 2.23000000e+02 9.50000000e+01 2.52000000e+02\n",
      " 3.09000000e+02 4.60000000e+01 2.91000000e+02 7.90000000e+01\n",
      " 1.27000000e+02 2.39000000e+02 5.10000000e+01 2.48000000e+02\n",
      " 3.23000000e+02 2.25000000e+02 3.19000000e+02 8.70000000e+01\n",
      " 3.01000000e+02 2.21000000e+02 8.60000000e+01 1.60000000e+02\n",
      " 2.45000000e+02 3.10000000e+01 1.37000000e+02 1.49000000e+02\n",
      " 5.20000000e+01 1.08000000e+02 2.51000000e+02 8.30000000e+01\n",
      " 1.11000000e+02 3.18000000e+02 1.93000000e+02 6.70000000e+01\n",
      " 2.05000000e+02 8.80000000e+01 6.80000000e+01 2.01000000e+02\n",
      " 1.24000000e+02 8.00000000e+01 3.39000000e+02 2.73000000e+02\n",
      " 1.15000000e+02 9.80000000e+01 2.74000000e+02 3.12000000e+02\n",
      " 1.00000000e+02 1.96000000e+02 1.33000000e+02 7.80000000e+01\n",
      " 2.55000000e+02 2.42000000e+02 1.18000000e+02 6.50000000e+01\n",
      " 1.91000000e+02 4.10000000e+01 1.62000000e+02 1.16000000e+02\n",
      " 1.31000000e+02 1.12000000e+02 2.80000000e+02 8.40000000e+01\n",
      " 9.40000000e+01 2.49000000e+02 3.32000000e+02 1.40000000e+02\n",
      " 3.80000000e+01 2.30000000e+02 2.72000000e+02 2.81000000e+02\n",
      " 1.48000000e+02 3.11000000e+02 1.39000000e+02 2.86000000e+02\n",
      " 2.03000000e+02 2.54000000e+02 9.10000000e+01 8.10000000e+01\n",
      " 1.01000000e+02 2.20000000e+01 2.22000000e+02 7.70000000e+01\n",
      " 2.88000000e+02 2.62000000e+02 6.60000000e+01 2.12000000e+02\n",
      " 3.56000000e+02 1.21000000e+02 1.61000000e+02 5.40000000e+01\n",
      " 1.68000000e+02 5.80000000e+01 2.14000000e+02 2.84000000e+02\n",
      " 3.58000000e+02 6.90000000e+01 1.46000000e+02 9.00000000e+01\n",
      " 2.50000000e+01 2.50000000e+02 7.50000000e+01 4.20000000e+01\n",
      " 5.30000000e+01 5.70000000e+01 2.02000000e+02 1.74000000e+02\n",
      " 2.85000000e+02 1.03000000e+02 5.90000000e+01 8.20000000e+01\n",
      " 9.70000000e+01 2.60000000e+01 3.16000000e+02 1.19000000e+02\n",
      " 2.65000000e+02 4.90000000e+01 3.40000000e+01 7.30000000e+01\n",
      " 2.11000000e+02 1.29000000e+02 2.41000000e+02 1.14000000e+02\n",
      " 2.19000000e+02 9.20000000e+01 7.00000000e+01 2.64000000e+02\n",
      " 4.40000000e+01 1.13000000e+02 2.44000000e+02 3.34000000e+02\n",
      " 7.60000000e+01 3.14000000e+02 1.09000000e+02 3.29000000e+02\n",
      " 1.28000000e+02 2.98000000e+02 6.20000000e+01 2.67000000e+02\n",
      " 9.60000000e+01 2.57000000e+02 3.24000000e+02 1.94000000e+02\n",
      " 2.76000000e+02 2.27000000e+02 6.40000000e+01 1.45000000e+02\n",
      " 1.51000000e+02 2.36000000e+02 1.77000000e+02 2.15000000e+02\n",
      " 3.15000000e+02 1.38000000e+02 1.07000000e+02 2.43000000e+02\n",
      " 3.38000000e+02 2.97000000e+02 2.89000000e+02 2.60000000e+02\n",
      " 2.99000000e+02 2.08000000e+02 1.36000000e+02 2.28000000e+02\n",
      " 5.60000000e+01 1.65000000e+02 3.51000000e+02 7.40000000e+01\n",
      " 3.37000000e+02 3.07000000e+02 1.70000000e+02 2.18000000e+02\n",
      " 2.13000000e+02 1.05000000e+02 1.22000000e+02 2.83000000e+02\n",
      " 1.32000000e+02 1.06000000e+02 3.17000000e+02 3.00000000e-01\n",
      " 2.46000000e+02 1.97000000e+02 6.30000000e+01 2.56000000e+02\n",
      " 2.07000000e+02 2.87000000e+02 2.68000000e+02 1.52000000e+02\n",
      " 2.75000000e+02 3.60000000e+02 4.70000000e+01 2.63000000e+02\n",
      " 2.34000000e+02 4.00000000e+01 1.84000000e+02 2.47000000e+02\n",
      " 1.85000000e+02 1.53000000e+02 2.94000000e+02 1.42000000e+02\n",
      " 1.25000000e+02 8.50000000e+01 1.54000000e+02 3.21000000e+02\n",
      " 2.04000000e+02 1.99000000e+02 2.33000000e+02 3.00000000e+01\n",
      " 2.82000000e+02 1.20000000e+02 1.04000000e+02 2.53000000e+02\n",
      " 1.57000000e+02 1.55000000e+02 1.02000000e+02 2.78000000e+02\n",
      " 2.80000000e+01 1.30000000e+02 3.27000000e+02 1.95000000e+02\n",
      " 3.30000000e+02 1.88000000e+02 3.05000000e+02 1.98000000e+02\n",
      " 1.35000000e+02 1.73000000e+02 3.08000000e+02 2.40000000e+01\n",
      " 1.75000000e+02 2.16000000e+02 2.40000000e+02 1.50000000e+01\n",
      " 1.60000000e+01 3.30000000e+01 1.58000000e+02 2.66000000e+02\n",
      " 1.82000000e+02 1.26000000e+02 3.35000000e+02 2.37000000e+02\n",
      " 3.03000000e+02 2.61000000e+02 3.50000000e+01 1.80000000e+02\n",
      " 3.20000000e+01 3.70000000e+01 2.35000000e+02 2.90000000e+02\n",
      " 2.90000000e+01 3.53000000e+02 0.00000000e+00 1.41000000e+02\n",
      " 3.06000000e+02 1.43000000e+02 3.31000000e+02 3.60000000e+01\n",
      " 1.90000000e+00 2.71000000e+02 1.66000000e+02 2.79000000e+02\n",
      " 3.22000000e+02 1.76000000e+02 3.04000000e+02 2.26000000e+02\n",
      " 1.80000000e+01 8.90000000e+01 6.10000000e+01 1.72000000e+02\n",
      " 2.59000000e+02 1.81000000e+02 1.90000000e+02 1.67000000e+02\n",
      " 3.90000000e+01 3.40000000e+02 5.60000000e+00 1.69000000e+02\n",
      " 2.17000000e+02 3.00000000e+02 2.24000000e+02 1.71000000e+02\n",
      " 3.33000000e+02 2.32000000e+02 3.47000000e+02 2.10000000e+01\n",
      " 2.10000000e+02 1.89000000e+02 2.31000000e+02 2.00000000e+02\n",
      " 1.56000000e+02 1.20000000e+01 3.59000000e+02 1.30000000e+00\n",
      " 1.63000000e+02 1.92000000e+02 3.36000000e+02 2.29000000e+02\n",
      " 1.83000000e+02 2.20000000e+02 5.20000000e+00 3.02000000e+02\n",
      " 1.47000000e+02 3.26000000e+02 3.25000000e+02 3.42000000e+02\n",
      " 1.44000000e+02 2.69000000e+02 3.55000000e+02 1.70000000e+01\n",
      " 1.78000000e+02 6.10000000e+00 2.20000000e+00 1.34000000e+02\n",
      " 3.46000000e+02 2.00000000e+01 2.95000000e+02 3.28000000e+02\n",
      " 3.45000000e+02 3.57000000e+02 3.54000000e+02 1.50000000e+00\n",
      " 1.64000000e+02 3.43000000e+02 1.87000000e+02 1.90000000e+01\n",
      " 3.52000000e+02 2.92000000e+02 2.09000000e+02 2.70000000e+01\n",
      " 3.60000000e+00 3.49000000e+02 5.00000000e-01 3.20000000e+02\n",
      " 7.50000000e+00 1.60000000e+00 1.30000000e+01 2.96000000e+02\n",
      " 6.00000000e+00 2.30000000e+01 3.13000000e+02 8.00000000e-01\n",
      " 3.41000000e+02 4.40000000e+00 3.50000000e+02 3.44000000e+02\n",
      " 4.00000000e-01 3.80000000e+00 4.90000000e+00 3.10000000e+00\n",
      " 1.40000000e+01 5.90000000e+00 3.48000000e+02 6.40000000e+00\n",
      " 1.10000000e+01 6.80000000e+00 2.00000000e+00 4.60000000e+00\n",
      " 2.60000000e+00 1.70000000e+00 8.20000000e+00 5.50000000e+00\n",
      " 7.80000000e+00 1.80000000e+00 1.20000000e+00 3.20000000e+00\n",
      " 9.60000000e+00]\n"
     ]
    }
   ],
   "source": [
    "# Convert to numeric values and replace invalid values with NaN\n",
    "taiwan_air_quality['WIND_DIREC'] = pd.to_numeric(taiwan_air_quality['WIND_DIREC'], errors='coerce')\n",
    "\n",
    "# Replace NaN values with the mean temperature\n",
    "taiwan_air_quality['WIND_DIREC'].fillna(taiwan_air_quality['WIND_DIREC'].mean(), inplace=True)\n",
    "\n",
    "# Print the data type and unique values of AMB_TEMP\n",
    "print(taiwan_air_quality['WIND_DIREC'].dtype)\n",
    "print(taiwan_air_quality['WIND_DIREC'].unique())"
   ]
  },
  {
   "cell_type": "code",
   "execution_count": 26,
   "id": "a102fe1a",
   "metadata": {},
   "outputs": [
    {
     "name": "stdout",
     "output_type": "stream",
     "text": [
      "float64\n",
      "[ 1.9         4.4         2.44361702  2.6         2.          2.7\n",
      "  1.8         2.3         4.8         1.7         0.4         2.1\n",
      "  1.3         5.8         1.2         5.7         2.2         3.6\n",
      "  0.9         3.          0.7         0.5         5.3         6.9\n",
      "  0.6         3.7         3.3         1.1         5.1         3.5\n",
      "  3.1         2.9         3.8         4.7         1.          2.8\n",
      "  2.5         1.4         0.8         4.          1.6         2.4\n",
      "  7.7         1.5         4.5         5.2         3.2         6.7\n",
      "  5.5         7.9         4.6         4.9         4.3         3.4\n",
      "  7.3         3.9         5.9         6.4         8.8         6.5\n",
      "  6.1         7.1         7.4         5.          6.8         4.2\n",
      "  8.4         7.5         8.6         8.         10.          5.6\n",
      "  7.6        11.          5.4         4.1         6.3         7.\n",
      " 50.          6.          9.9         8.5         6.2         6.6\n",
      "  7.8         7.2         8.1        16.         14.          8.2\n",
      "  8.3         9.4         8.7        23.          8.9         9.\n",
      "  9.1         9.5        12.         21.          9.3         9.7\n",
      "  9.6         9.8         9.2        13.        ]\n"
     ]
    }
   ],
   "source": [
    "\n",
    "# Convert to numeric values and replace invalid values with NaN\n",
    "taiwan_air_quality['WIND_SPEED'] = pd.to_numeric(taiwan_air_quality['WIND_SPEED'], errors='coerce')\n",
    "\n",
    "# Replace NaN values with the mean temperature\n",
    "taiwan_air_quality['WIND_SPEED'].fillna(taiwan_air_quality['WIND_SPEED'].mean(), inplace=True)\n",
    "\n",
    "# Print the data type and unique values of AMB_TEMP\n",
    "print(taiwan_air_quality['WIND_SPEED'].dtype)\n",
    "print(taiwan_air_quality['WIND_SPEED'].unique())"
   ]
  },
  {
   "cell_type": "code",
   "execution_count": 27,
   "id": "d0d71529",
   "metadata": {},
   "outputs": [
    {
     "name": "stdout",
     "output_type": "stream",
     "text": [
      "float64\n",
      "[ 0.5         3.6         2.02260151  2.8         1.3         2.5\n",
      "  1.5         2.4         4.3         0.1         1.8         1.4\n",
      "  1.7         4.7         1.          5.1         1.2         2.2\n",
      "  0.6         2.1         0.7         0.2         1.1         1.6\n",
      "  0.9         0.8         4.5         7.1         1.9         0.4\n",
      "  2.          3.          4.9         3.9         2.3         3.4\n",
      "  4.1         2.6         4.8         0.          3.8         6.8\n",
      "  2.7         6.1         2.9         0.3         7.9         6.\n",
      "  3.3         6.4         5.          3.2         3.7         4.\n",
      "  4.2         3.1         4.6         5.4         5.9         5.8\n",
      "  3.5         8.9         7.          5.5         7.3         6.7\n",
      "  4.4         6.6         6.3         6.5         7.2         9.7\n",
      " 10.          8.7         7.8         5.7         5.2         8.2\n",
      " 30.          5.6         8.          6.9        50.          7.4\n",
      "  9.1         5.3         8.4        17.          9.4         7.5\n",
      " 14.          9.          7.6        18.          8.6         8.8\n",
      "  8.1         6.2         8.3         7.7         8.5         9.5\n",
      "  9.8        21.         12.         11.         13.         19.        ]\n"
     ]
    }
   ],
   "source": [
    "\n",
    "# Convert to numeric values and replace invalid values with NaN\n",
    "taiwan_air_quality['WS_HR'] = pd.to_numeric(taiwan_air_quality['WS_HR'], errors='coerce')\n",
    "\n",
    "# Replace NaN values with the mean temperature\n",
    "taiwan_air_quality['WS_HR'].fillna(taiwan_air_quality['WS_HR'].mean(), inplace=True)\n",
    "\n",
    "# Print the data type and unique values of AMB_TEMP\n",
    "print(taiwan_air_quality['WS_HR'].dtype)\n",
    "print(taiwan_air_quality['WS_HR'].unique())"
   ]
  },
  {
   "cell_type": "code",
   "execution_count": 28,
   "id": "1b6db75e",
   "metadata": {},
   "outputs": [],
   "source": [
    "taiwan_air_quality['AMB_TEMP'] = taiwan_air_quality['AMB_TEMP'].apply(lambda x: '{:.2f}'.format(x))\n",
    "\n",
    "taiwan_air_quality['CH4'] = taiwan_air_quality['CH4'].apply(lambda x: '{:.2f}'.format(x))\n",
    "\n",
    "taiwan_air_quality['CO'] = taiwan_air_quality['CO'].apply(lambda x: '{:.2f}'.format(x))\n",
    "\n",
    "taiwan_air_quality['NMHC'] = taiwan_air_quality['NMHC'].apply(lambda x: '{:.2f}'.format(x))\n",
    "\n",
    "taiwan_air_quality['NO'] = taiwan_air_quality['NO'].apply(lambda x: '{:.2f}'.format(x))\n",
    "taiwan_air_quality['NO2'] = taiwan_air_quality['NO2'].apply(lambda x: '{:.2f}'.format(x))\n",
    "taiwan_air_quality['NOx'] = taiwan_air_quality['NOx'].apply(lambda x: '{:.2f}'.format(x))\n",
    "taiwan_air_quality['O3'] = taiwan_air_quality['O3'].apply(lambda x: '{:.2f}'.format(x))\n",
    "taiwan_air_quality['PH_RAIN'] = taiwan_air_quality['PH_RAIN'].apply(lambda x: '{:.2f}'.format(x))\n",
    "taiwan_air_quality['PM10'] = taiwan_air_quality['PM10'].apply(lambda x: '{:.2f}'.format(x))\n",
    "taiwan_air_quality['PM2.5'] = taiwan_air_quality['PM2.5'].apply(lambda x: '{:.2f}'.format(x))\n",
    "taiwan_air_quality['RAIN_COND'] = taiwan_air_quality['RAIN_COND'].apply(lambda x: '{:.2f}'.format(x))\n",
    "taiwan_air_quality['RH'] = taiwan_air_quality['RH'].apply(lambda x: '{:.2f}'.format(x))\n",
    "\n",
    "taiwan_air_quality['SO2'] = taiwan_air_quality['SO2'].apply(lambda x: '{:.2f}'.format(x))\n",
    "taiwan_air_quality['THC'] = taiwan_air_quality['THC'].apply(lambda x: '{:.2f}'.format(x))\n",
    "taiwan_air_quality['UVB'] = taiwan_air_quality['UVB'].apply(lambda x: '{:.2f}'.format(x))\n",
    "taiwan_air_quality['WD_HR'] = taiwan_air_quality['WD_HR'].apply(lambda x: '{:.2f}'.format(x))\n",
    "\n",
    "taiwan_air_quality['WIND_DIREC'] = taiwan_air_quality['WIND_DIREC'].apply(lambda x: '{:.2f}'.format(x))\n",
    "\n",
    "\n",
    "taiwan_air_quality['WIND_SPEED'] = taiwan_air_quality['WIND_SPEED'].apply(lambda x: '{:.2f}'.format(x))\n",
    "taiwan_air_quality['WS_HR'] = taiwan_air_quality['WS_HR'].apply(lambda x: '{:.2f}'.format(x))\n"
   ]
  },
  {
   "cell_type": "code",
   "execution_count": 32,
   "id": "fa778289",
   "metadata": {},
   "outputs": [
    {
     "ename": "ValueError",
     "evalue": "zero-size array to reduction operation fmin which has no identity",
     "output_type": "error",
     "traceback": [
      "\u001b[1;31m---------------------------------------------------------------------------\u001b[0m",
      "\u001b[1;31mValueError\u001b[0m                                Traceback (most recent call last)",
      "\u001b[1;32m~\\AppData\\Local\\Temp\\ipykernel_6380\\1981398464.py\u001b[0m in \u001b[0;36m<module>\u001b[1;34m\u001b[0m\n\u001b[0;32m      4\u001b[0m \u001b[1;31m# Create heatmap\u001b[0m\u001b[1;33m\u001b[0m\u001b[1;33m\u001b[0m\u001b[0m\n\u001b[0;32m      5\u001b[0m \u001b[0mplt\u001b[0m\u001b[1;33m.\u001b[0m\u001b[0mfigure\u001b[0m\u001b[1;33m(\u001b[0m\u001b[0mfigsize\u001b[0m\u001b[1;33m=\u001b[0m\u001b[1;33m(\u001b[0m\u001b[1;36m12\u001b[0m\u001b[1;33m,\u001b[0m \u001b[1;36m10\u001b[0m\u001b[1;33m)\u001b[0m\u001b[1;33m)\u001b[0m\u001b[1;33m\u001b[0m\u001b[1;33m\u001b[0m\u001b[0m\n\u001b[1;32m----> 6\u001b[1;33m \u001b[0msns\u001b[0m\u001b[1;33m.\u001b[0m\u001b[0mheatmap\u001b[0m\u001b[1;33m(\u001b[0m\u001b[0mcorrelation_matrix\u001b[0m\u001b[1;33m,\u001b[0m \u001b[0mannot\u001b[0m\u001b[1;33m=\u001b[0m\u001b[1;32mTrue\u001b[0m\u001b[1;33m,\u001b[0m \u001b[0mcmap\u001b[0m\u001b[1;33m=\u001b[0m\u001b[1;34m'coolwarm'\u001b[0m\u001b[1;33m,\u001b[0m \u001b[0mlinewidths\u001b[0m\u001b[1;33m=\u001b[0m\u001b[1;36m0.5\u001b[0m\u001b[1;33m)\u001b[0m\u001b[1;33m\u001b[0m\u001b[1;33m\u001b[0m\u001b[0m\n\u001b[0m\u001b[0;32m      7\u001b[0m \u001b[1;33m\u001b[0m\u001b[0m\n\u001b[0;32m      8\u001b[0m \u001b[1;31m# Customize plot\u001b[0m\u001b[1;33m\u001b[0m\u001b[1;33m\u001b[0m\u001b[0m\n",
      "\u001b[1;32mC:\\ProgramData\\Anaconda3\\lib\\site-packages\\seaborn\\_decorators.py\u001b[0m in \u001b[0;36minner_f\u001b[1;34m(*args, **kwargs)\u001b[0m\n\u001b[0;32m     44\u001b[0m             )\n\u001b[0;32m     45\u001b[0m         \u001b[0mkwargs\u001b[0m\u001b[1;33m.\u001b[0m\u001b[0mupdate\u001b[0m\u001b[1;33m(\u001b[0m\u001b[1;33m{\u001b[0m\u001b[0mk\u001b[0m\u001b[1;33m:\u001b[0m \u001b[0marg\u001b[0m \u001b[1;32mfor\u001b[0m \u001b[0mk\u001b[0m\u001b[1;33m,\u001b[0m \u001b[0marg\u001b[0m \u001b[1;32min\u001b[0m \u001b[0mzip\u001b[0m\u001b[1;33m(\u001b[0m\u001b[0msig\u001b[0m\u001b[1;33m.\u001b[0m\u001b[0mparameters\u001b[0m\u001b[1;33m,\u001b[0m \u001b[0margs\u001b[0m\u001b[1;33m)\u001b[0m\u001b[1;33m}\u001b[0m\u001b[1;33m)\u001b[0m\u001b[1;33m\u001b[0m\u001b[1;33m\u001b[0m\u001b[0m\n\u001b[1;32m---> 46\u001b[1;33m         \u001b[1;32mreturn\u001b[0m \u001b[0mf\u001b[0m\u001b[1;33m(\u001b[0m\u001b[1;33m**\u001b[0m\u001b[0mkwargs\u001b[0m\u001b[1;33m)\u001b[0m\u001b[1;33m\u001b[0m\u001b[1;33m\u001b[0m\u001b[0m\n\u001b[0m\u001b[0;32m     47\u001b[0m     \u001b[1;32mreturn\u001b[0m \u001b[0minner_f\u001b[0m\u001b[1;33m\u001b[0m\u001b[1;33m\u001b[0m\u001b[0m\n\u001b[0;32m     48\u001b[0m \u001b[1;33m\u001b[0m\u001b[0m\n",
      "\u001b[1;32mC:\\ProgramData\\Anaconda3\\lib\\site-packages\\seaborn\\matrix.py\u001b[0m in \u001b[0;36mheatmap\u001b[1;34m(data, vmin, vmax, cmap, center, robust, annot, fmt, annot_kws, linewidths, linecolor, cbar, cbar_kws, cbar_ax, square, xticklabels, yticklabels, mask, ax, **kwargs)\u001b[0m\n\u001b[0;32m    538\u001b[0m     \"\"\"\n\u001b[0;32m    539\u001b[0m     \u001b[1;31m# Initialize the plotter object\u001b[0m\u001b[1;33m\u001b[0m\u001b[1;33m\u001b[0m\u001b[0m\n\u001b[1;32m--> 540\u001b[1;33m     plotter = _HeatMapper(data, vmin, vmax, cmap, center, robust, annot, fmt,\n\u001b[0m\u001b[0;32m    541\u001b[0m                           \u001b[0mannot_kws\u001b[0m\u001b[1;33m,\u001b[0m \u001b[0mcbar\u001b[0m\u001b[1;33m,\u001b[0m \u001b[0mcbar_kws\u001b[0m\u001b[1;33m,\u001b[0m \u001b[0mxticklabels\u001b[0m\u001b[1;33m,\u001b[0m\u001b[1;33m\u001b[0m\u001b[1;33m\u001b[0m\u001b[0m\n\u001b[0;32m    542\u001b[0m                           yticklabels, mask)\n",
      "\u001b[1;32mC:\\ProgramData\\Anaconda3\\lib\\site-packages\\seaborn\\matrix.py\u001b[0m in \u001b[0;36m__init__\u001b[1;34m(self, data, vmin, vmax, cmap, center, robust, annot, fmt, annot_kws, cbar, cbar_kws, xticklabels, yticklabels, mask)\u001b[0m\n\u001b[0;32m    157\u001b[0m \u001b[1;33m\u001b[0m\u001b[0m\n\u001b[0;32m    158\u001b[0m         \u001b[1;31m# Determine good default values for the colormapping\u001b[0m\u001b[1;33m\u001b[0m\u001b[1;33m\u001b[0m\u001b[0m\n\u001b[1;32m--> 159\u001b[1;33m         self._determine_cmap_params(plot_data, vmin, vmax,\n\u001b[0m\u001b[0;32m    160\u001b[0m                                     cmap, center, robust)\n\u001b[0;32m    161\u001b[0m \u001b[1;33m\u001b[0m\u001b[0m\n",
      "\u001b[1;32mC:\\ProgramData\\Anaconda3\\lib\\site-packages\\seaborn\\matrix.py\u001b[0m in \u001b[0;36m_determine_cmap_params\u001b[1;34m(self, plot_data, vmin, vmax, cmap, center, robust)\u001b[0m\n\u001b[0;32m    196\u001b[0m                 \u001b[0mvmin\u001b[0m \u001b[1;33m=\u001b[0m \u001b[0mnp\u001b[0m\u001b[1;33m.\u001b[0m\u001b[0mnanpercentile\u001b[0m\u001b[1;33m(\u001b[0m\u001b[0mcalc_data\u001b[0m\u001b[1;33m,\u001b[0m \u001b[1;36m2\u001b[0m\u001b[1;33m)\u001b[0m\u001b[1;33m\u001b[0m\u001b[1;33m\u001b[0m\u001b[0m\n\u001b[0;32m    197\u001b[0m             \u001b[1;32melse\u001b[0m\u001b[1;33m:\u001b[0m\u001b[1;33m\u001b[0m\u001b[1;33m\u001b[0m\u001b[0m\n\u001b[1;32m--> 198\u001b[1;33m                 \u001b[0mvmin\u001b[0m \u001b[1;33m=\u001b[0m \u001b[0mnp\u001b[0m\u001b[1;33m.\u001b[0m\u001b[0mnanmin\u001b[0m\u001b[1;33m(\u001b[0m\u001b[0mcalc_data\u001b[0m\u001b[1;33m)\u001b[0m\u001b[1;33m\u001b[0m\u001b[1;33m\u001b[0m\u001b[0m\n\u001b[0m\u001b[0;32m    199\u001b[0m         \u001b[1;32mif\u001b[0m \u001b[0mvmax\u001b[0m \u001b[1;32mis\u001b[0m \u001b[1;32mNone\u001b[0m\u001b[1;33m:\u001b[0m\u001b[1;33m\u001b[0m\u001b[1;33m\u001b[0m\u001b[0m\n\u001b[0;32m    200\u001b[0m             \u001b[1;32mif\u001b[0m \u001b[0mrobust\u001b[0m\u001b[1;33m:\u001b[0m\u001b[1;33m\u001b[0m\u001b[1;33m\u001b[0m\u001b[0m\n",
      "\u001b[1;32m<__array_function__ internals>\u001b[0m in \u001b[0;36mnanmin\u001b[1;34m(*args, **kwargs)\u001b[0m\n",
      "\u001b[1;32mC:\\ProgramData\\Anaconda3\\lib\\site-packages\\numpy\\lib\\nanfunctions.py\u001b[0m in \u001b[0;36mnanmin\u001b[1;34m(a, axis, out, keepdims)\u001b[0m\n\u001b[0;32m    317\u001b[0m         \u001b[1;31m# Fast, but not safe for subclasses of ndarray, or object arrays,\u001b[0m\u001b[1;33m\u001b[0m\u001b[1;33m\u001b[0m\u001b[0m\n\u001b[0;32m    318\u001b[0m         \u001b[1;31m# which do not implement isnan (gh-9009), or fmin correctly (gh-8975)\u001b[0m\u001b[1;33m\u001b[0m\u001b[1;33m\u001b[0m\u001b[0m\n\u001b[1;32m--> 319\u001b[1;33m         \u001b[0mres\u001b[0m \u001b[1;33m=\u001b[0m \u001b[0mnp\u001b[0m\u001b[1;33m.\u001b[0m\u001b[0mfmin\u001b[0m\u001b[1;33m.\u001b[0m\u001b[0mreduce\u001b[0m\u001b[1;33m(\u001b[0m\u001b[0ma\u001b[0m\u001b[1;33m,\u001b[0m \u001b[0maxis\u001b[0m\u001b[1;33m=\u001b[0m\u001b[0maxis\u001b[0m\u001b[1;33m,\u001b[0m \u001b[0mout\u001b[0m\u001b[1;33m=\u001b[0m\u001b[0mout\u001b[0m\u001b[1;33m,\u001b[0m \u001b[1;33m**\u001b[0m\u001b[0mkwargs\u001b[0m\u001b[1;33m)\u001b[0m\u001b[1;33m\u001b[0m\u001b[1;33m\u001b[0m\u001b[0m\n\u001b[0m\u001b[0;32m    320\u001b[0m         \u001b[1;32mif\u001b[0m \u001b[0mnp\u001b[0m\u001b[1;33m.\u001b[0m\u001b[0misnan\u001b[0m\u001b[1;33m(\u001b[0m\u001b[0mres\u001b[0m\u001b[1;33m)\u001b[0m\u001b[1;33m.\u001b[0m\u001b[0many\u001b[0m\u001b[1;33m(\u001b[0m\u001b[1;33m)\u001b[0m\u001b[1;33m:\u001b[0m\u001b[1;33m\u001b[0m\u001b[1;33m\u001b[0m\u001b[0m\n\u001b[0;32m    321\u001b[0m             warnings.warn(\"All-NaN slice encountered\", RuntimeWarning,\n",
      "\u001b[1;31mValueError\u001b[0m: zero-size array to reduction operation fmin which has no identity"
     ]
    },
    {
     "data": {
      "text/plain": [
       "<Figure size 1200x1000 with 0 Axes>"
      ]
     },
     "metadata": {},
     "output_type": "display_data"
    }
   ],
   "source": [
    "# Compute correlation matrix\n",
    "correlation_matrix = taiwan_air_quality.corr()\n",
    "\n",
    "# Create heatmap\n",
    "plt.figure(figsize=(12, 10))\n",
    "sns.heatmap(correlation_matrix, annot=True, cmap='coolwarm', linewidths=0.5)\n",
    "\n",
    "# Customize plot\n",
    "plt.title('Correlation Matrix')\n",
    "plt.xticks(rotation=45)\n",
    "plt.yticks(rotation=0)\n",
    "\n",
    "# Display the plot\n",
    "plt.show()"
   ]
  },
  {
   "cell_type": "code",
   "execution_count": null,
   "id": "5329d968",
   "metadata": {},
   "outputs": [],
   "source": []
  },
  {
   "cell_type": "code",
   "execution_count": 31,
   "id": "e39db82f",
   "metadata": {},
   "outputs": [],
   "source": [
    "taiwan_air_quality.drop('RAINFALL', axis=1, inplace=True)\n"
   ]
  },
  {
   "cell_type": "code",
   "execution_count": 33,
   "id": "721e252a",
   "metadata": {},
   "outputs": [
    {
     "data": {
      "text/html": [
       "<div>\n",
       "<style scoped>\n",
       "    .dataframe tbody tr th:only-of-type {\n",
       "        vertical-align: middle;\n",
       "    }\n",
       "\n",
       "    .dataframe tbody tr th {\n",
       "        vertical-align: top;\n",
       "    }\n",
       "\n",
       "    .dataframe thead th {\n",
       "        text-align: right;\n",
       "    }\n",
       "</style>\n",
       "<table border=\"1\" class=\"dataframe\">\n",
       "  <thead>\n",
       "    <tr style=\"text-align: right;\">\n",
       "      <th></th>\n",
       "      <th>time</th>\n",
       "      <th>station</th>\n",
       "      <th>AMB_TEMP</th>\n",
       "      <th>CH4</th>\n",
       "      <th>CO</th>\n",
       "      <th>NMHC</th>\n",
       "      <th>NO</th>\n",
       "      <th>NO2</th>\n",
       "      <th>NOx</th>\n",
       "      <th>O3</th>\n",
       "      <th>PH_RAIN</th>\n",
       "      <th>PM10</th>\n",
       "      <th>PM2.5</th>\n",
       "      <th>RAIN_COND</th>\n",
       "      <th>RH</th>\n",
       "      <th>SO2</th>\n",
       "      <th>THC</th>\n",
       "      <th>UVB</th>\n",
       "      <th>WD_HR</th>\n",
       "      <th>WIND_DIREC</th>\n",
       "      <th>WIND_SPEED</th>\n",
       "      <th>WS_HR</th>\n",
       "    </tr>\n",
       "  </thead>\n",
       "  <tbody>\n",
       "    <tr>\n",
       "      <th>0</th>\n",
       "      <td>2015/05/09 14:00</td>\n",
       "      <td>Zhongli</td>\n",
       "      <td>30.00</td>\n",
       "      <td>1.90</td>\n",
       "      <td>0.78</td>\n",
       "      <td>0.22</td>\n",
       "      <td>17.00</td>\n",
       "      <td>14.00</td>\n",
       "      <td>31.00</td>\n",
       "      <td>18.00</td>\n",
       "      <td>4.65</td>\n",
       "      <td>56.00</td>\n",
       "      <td>19.00</td>\n",
       "      <td>59.48</td>\n",
       "      <td>68.00</td>\n",
       "      <td>2.00</td>\n",
       "      <td>2.10</td>\n",
       "      <td>1.36</td>\n",
       "      <td>115.00</td>\n",
       "      <td>99.00</td>\n",
       "      <td>1.90</td>\n",
       "      <td>0.50</td>\n",
       "    </tr>\n",
       "    <tr>\n",
       "      <th>1</th>\n",
       "      <td>2015/08/24 15:00</td>\n",
       "      <td>Wanhua</td>\n",
       "      <td>33.00</td>\n",
       "      <td>1.94</td>\n",
       "      <td>0.35</td>\n",
       "      <td>0.27</td>\n",
       "      <td>2.80</td>\n",
       "      <td>11.00</td>\n",
       "      <td>14.00</td>\n",
       "      <td>49.00</td>\n",
       "      <td>4.65</td>\n",
       "      <td>26.00</td>\n",
       "      <td>22.00</td>\n",
       "      <td>59.48</td>\n",
       "      <td>58.00</td>\n",
       "      <td>2.60</td>\n",
       "      <td>2.21</td>\n",
       "      <td>1.36</td>\n",
       "      <td>273.00</td>\n",
       "      <td>277.00</td>\n",
       "      <td>4.40</td>\n",
       "      <td>3.60</td>\n",
       "    </tr>\n",
       "    <tr>\n",
       "      <th>2</th>\n",
       "      <td>2015/12/02 07:00</td>\n",
       "      <td>Tamsui</td>\n",
       "      <td>23.40</td>\n",
       "      <td>1.94</td>\n",
       "      <td>0.59</td>\n",
       "      <td>0.27</td>\n",
       "      <td>14.00</td>\n",
       "      <td>23.00</td>\n",
       "      <td>37.00</td>\n",
       "      <td>3.10</td>\n",
       "      <td>4.65</td>\n",
       "      <td>28.00</td>\n",
       "      <td>9.00</td>\n",
       "      <td>59.48</td>\n",
       "      <td>75.88</td>\n",
       "      <td>4.10</td>\n",
       "      <td>2.21</td>\n",
       "      <td>0.10</td>\n",
       "      <td>146.52</td>\n",
       "      <td>146.88</td>\n",
       "      <td>2.44</td>\n",
       "      <td>2.02</td>\n",
       "    </tr>\n",
       "    <tr>\n",
       "      <th>3</th>\n",
       "      <td>2015/10/02 21:00</td>\n",
       "      <td>Banqiao</td>\n",
       "      <td>27.00</td>\n",
       "      <td>2.00</td>\n",
       "      <td>0.71</td>\n",
       "      <td>0.18</td>\n",
       "      <td>1.00</td>\n",
       "      <td>24.00</td>\n",
       "      <td>25.00</td>\n",
       "      <td>20.00</td>\n",
       "      <td>4.65</td>\n",
       "      <td>38.00</td>\n",
       "      <td>13.00</td>\n",
       "      <td>59.48</td>\n",
       "      <td>80.00</td>\n",
       "      <td>2.20</td>\n",
       "      <td>2.10</td>\n",
       "      <td>0.00</td>\n",
       "      <td>61.00</td>\n",
       "      <td>60.00</td>\n",
       "      <td>2.60</td>\n",
       "      <td>2.80</td>\n",
       "    </tr>\n",
       "    <tr>\n",
       "      <th>4</th>\n",
       "      <td>2015/04/17 03:00</td>\n",
       "      <td>Guanyin</td>\n",
       "      <td>20.00</td>\n",
       "      <td>1.94</td>\n",
       "      <td>0.45</td>\n",
       "      <td>0.27</td>\n",
       "      <td>3.10</td>\n",
       "      <td>46.00</td>\n",
       "      <td>49.00</td>\n",
       "      <td>7.70</td>\n",
       "      <td>4.65</td>\n",
       "      <td>99.00</td>\n",
       "      <td>38.00</td>\n",
       "      <td>59.48</td>\n",
       "      <td>77.00</td>\n",
       "      <td>19.00</td>\n",
       "      <td>2.21</td>\n",
       "      <td>1.36</td>\n",
       "      <td>110.00</td>\n",
       "      <td>117.00</td>\n",
       "      <td>2.00</td>\n",
       "      <td>1.30</td>\n",
       "    </tr>\n",
       "  </tbody>\n",
       "</table>\n",
       "</div>"
      ],
      "text/plain": [
       "               time  station AMB_TEMP   CH4    CO  NMHC     NO    NO2    NOx  \\\n",
       "0  2015/05/09 14:00  Zhongli    30.00  1.90  0.78  0.22  17.00  14.00  31.00   \n",
       "1  2015/08/24 15:00   Wanhua    33.00  1.94  0.35  0.27   2.80  11.00  14.00   \n",
       "2  2015/12/02 07:00   Tamsui    23.40  1.94  0.59  0.27  14.00  23.00  37.00   \n",
       "3  2015/10/02 21:00  Banqiao    27.00  2.00  0.71  0.18   1.00  24.00  25.00   \n",
       "4  2015/04/17 03:00  Guanyin    20.00  1.94  0.45  0.27   3.10  46.00  49.00   \n",
       "\n",
       "      O3 PH_RAIN   PM10  PM2.5 RAIN_COND     RH    SO2   THC   UVB   WD_HR  \\\n",
       "0  18.00    4.65  56.00  19.00     59.48  68.00   2.00  2.10  1.36  115.00   \n",
       "1  49.00    4.65  26.00  22.00     59.48  58.00   2.60  2.21  1.36  273.00   \n",
       "2   3.10    4.65  28.00   9.00     59.48  75.88   4.10  2.21  0.10  146.52   \n",
       "3  20.00    4.65  38.00  13.00     59.48  80.00   2.20  2.10  0.00   61.00   \n",
       "4   7.70    4.65  99.00  38.00     59.48  77.00  19.00  2.21  1.36  110.00   \n",
       "\n",
       "  WIND_DIREC WIND_SPEED WS_HR  \n",
       "0      99.00       1.90  0.50  \n",
       "1     277.00       4.40  3.60  \n",
       "2     146.88       2.44  2.02  \n",
       "3      60.00       2.60  2.80  \n",
       "4     117.00       2.00  1.30  "
      ]
     },
     "execution_count": 33,
     "metadata": {},
     "output_type": "execute_result"
    }
   ],
   "source": [
    "taiwan_air_quality.head()"
   ]
  },
  {
   "cell_type": "code",
   "execution_count": null,
   "id": "d32f751d",
   "metadata": {},
   "outputs": [],
   "source": []
  },
  {
   "cell_type": "code",
   "execution_count": null,
   "id": "764f4272",
   "metadata": {},
   "outputs": [],
   "source": []
  },
  {
   "cell_type": "code",
   "execution_count": 34,
   "id": "38c55b60",
   "metadata": {},
   "outputs": [],
   "source": [
    "taiwan_air_quality.drop('AMB_TEMP', axis=1, inplace=True)\n",
    "taiwan_air_quality.drop('NMHC', axis=1, inplace=True)\n",
    "taiwan_air_quality.drop('PH_RAIN', axis=1, inplace=True)\n",
    "taiwan_air_quality.drop('RAIN_COND', axis=1, inplace=True)\n",
    "taiwan_air_quality.drop('RH', axis=1, inplace=True)\n",
    "taiwan_air_quality.drop('THC', axis=1, inplace=True)\n",
    "taiwan_air_quality.drop('UVB', axis=1, inplace=True)\n",
    "taiwan_air_quality.drop('WD_HR', axis=1, inplace=True)\n",
    "taiwan_air_quality.drop('WIND_DIREC', axis=1, inplace=True)\n",
    "taiwan_air_quality.drop('WIND_SPEED', axis=1, inplace=True)\n",
    "taiwan_air_quality.drop('WS_HR', axis=1, inplace=True)\n",
    "\n"
   ]
  },
  {
   "cell_type": "code",
   "execution_count": 35,
   "id": "0f6a4a0c",
   "metadata": {},
   "outputs": [],
   "source": [
    "taiwan_air_quality['SO2'] = pd.to_numeric(taiwan_air_quality['SO2'], errors='coerce')\n"
   ]
  },
  {
   "cell_type": "code",
   "execution_count": 36,
   "id": "278daeaf",
   "metadata": {},
   "outputs": [],
   "source": [
    "taiwan_air_quality['NO2'] = pd.to_numeric(taiwan_air_quality['NO2'], errors='coerce')\n"
   ]
  },
  {
   "cell_type": "code",
   "execution_count": 37,
   "id": "2d866396",
   "metadata": {},
   "outputs": [],
   "source": [
    "taiwan_air_quality['CH4'] = pd.to_numeric(taiwan_air_quality['CH4'], errors='coerce')\n"
   ]
  },
  {
   "cell_type": "code",
   "execution_count": 38,
   "id": "af9f6830",
   "metadata": {},
   "outputs": [],
   "source": [
    "taiwan_air_quality['CO'] = pd.to_numeric(taiwan_air_quality['CO'], errors='coerce')\n"
   ]
  },
  {
   "cell_type": "code",
   "execution_count": 39,
   "id": "a5609004",
   "metadata": {},
   "outputs": [],
   "source": [
    "taiwan_air_quality['NO'] = pd.to_numeric(taiwan_air_quality['NO'], errors='coerce')\n",
    "\n"
   ]
  },
  {
   "cell_type": "code",
   "execution_count": 40,
   "id": "420902d5",
   "metadata": {},
   "outputs": [],
   "source": [
    "taiwan_air_quality['NOx'] = pd.to_numeric(taiwan_air_quality['NOx'], errors='coerce')\n"
   ]
  },
  {
   "cell_type": "code",
   "execution_count": 41,
   "id": "3b8f2afc",
   "metadata": {},
   "outputs": [],
   "source": [
    "taiwan_air_quality['O3'] = pd.to_numeric(taiwan_air_quality['O3'], errors='coerce')\n",
    "\n"
   ]
  },
  {
   "cell_type": "code",
   "execution_count": 42,
   "id": "ead13d9a",
   "metadata": {},
   "outputs": [],
   "source": [
    "taiwan_air_quality['PM10'] = pd.to_numeric(taiwan_air_quality['PM10'], errors='coerce')\n"
   ]
  },
  {
   "cell_type": "code",
   "execution_count": 43,
   "id": "66d35eef",
   "metadata": {},
   "outputs": [],
   "source": [
    "taiwan_air_quality['PM2.5'] = pd.to_numeric(taiwan_air_quality['PM2.5'], errors='coerce')\n",
    "\n"
   ]
  },
  {
   "cell_type": "code",
   "execution_count": null,
   "id": "64116a9d",
   "metadata": {},
   "outputs": [],
   "source": []
  },
  {
   "cell_type": "code",
   "execution_count": 44,
   "id": "bbeb1c9a",
   "metadata": {},
   "outputs": [
    {
     "data": {
      "image/png": "[encoded data removed]",
      "text/plain": [
       "<Figure size 1500x600 with 1 Axes>"
      ]
     },
     "metadata": {},
     "output_type": "display_data"
    }
   ],
   "source": [
    "import matplotlib.pyplot as plt\n",
    "\n",
    "plt.figure(figsize=(15,6))\n",
    "plt.xticks(rotation=90)\n",
    "\n",
    "taiwan_air_quality['station'].value_counts().plot(kind='bar')\n",
    "plt.xlabel('State')\n",
    "plt.ylabel('Frequencies')\n",
    "plt.title('Bar Chart of State Frequencies')\n",
    "\n",
    "plt.show()"
   ]
  },
  {
   "cell_type": "code",
   "execution_count": 45,
   "id": "a8c8bf53",
   "metadata": {},
   "outputs": [
    {
     "data": {
      "image/png": "[encoded data removed]",
      "text/plain": [
       "<Figure size 640x480 with 1 Axes>"
      ]
     },
     "metadata": {},
     "output_type": "display_data"
    }
   ],
   "source": [
    "taiwan_air_quality[['SO2', 'station']].groupby([\"station\"]).mean().sort_values(by='SO2').plot.bar(color='green')\n",
    "plt.show()"
   ]
  },
  {
   "cell_type": "code",
   "execution_count": 46,
   "id": "2691928f",
   "metadata": {},
   "outputs": [
    {
     "data": {
      "image/png": "[encoded data removed]",
      "text/plain": [
       "<Figure size 640x480 with 1 Axes>"
      ]
     },
     "metadata": {},
     "output_type": "display_data"
    }
   ],
   "source": [
    "taiwan_air_quality[['NO2', 'station']].groupby([\"station\"]).mean().sort_values(by='NO2').plot.bar(color='red')\n",
    "plt.show()"
   ]
  },
  {
   "cell_type": "code",
   "execution_count": 47,
   "id": "49f89414",
   "metadata": {},
   "outputs": [
    {
     "data": {
      "image/png": "[encoded data removed]",
      "text/plain": [
       "<Figure size 640x480 with 1 Axes>"
      ]
     },
     "metadata": {},
     "output_type": "display_data"
    }
   ],
   "source": [
    "taiwan_air_quality[['CH4', 'station']].groupby([\"station\"]).mean().sort_values(by='CH4').plot.bar(color='gray')\n",
    "plt.show()"
   ]
  },
  {
   "cell_type": "code",
   "execution_count": 48,
   "id": "b3ca82ea",
   "metadata": {},
   "outputs": [
    {
     "data": {
      "image/png": "[encoded data removed]",
      "text/plain": [
       "<Figure size 640x480 with 1 Axes>"
      ]
     },
     "metadata": {},
     "output_type": "display_data"
    }
   ],
   "source": [
    "taiwan_air_quality[['CO', 'station']].groupby([\"station\"]).mean().sort_values(by='CO').plot.bar(color='maroon')\n",
    "plt.show()"
   ]
  },
  {
   "cell_type": "code",
   "execution_count": 50,
   "id": "785e7c81",
   "metadata": {},
   "outputs": [
    {
     "data": {
      "image/png": "[encoded data removed]",
      "text/plain": [
       "<Figure size 640x480 with 1 Axes>"
      ]
     },
     "metadata": {},
     "output_type": "display_data"
    }
   ],
   "source": [
    "taiwan_air_quality[['NO', 'station']].groupby([\"station\"]).mean().sort_values(by='NO').plot.bar(color='yellow')\n",
    "plt.show()"
   ]
  },
  {
   "cell_type": "code",
   "execution_count": 51,
   "id": "84ee6e6f",
   "metadata": {},
   "outputs": [
    {
     "data": {
      "image/png": "[encoded data removed]",
      "text/plain": [
       "<Figure size 640x480 with 1 Axes>"
      ]
     },
     "metadata": {},
     "output_type": "display_data"
    }
   ],
   "source": [
    "taiwan_air_quality[['NOx', 'station']].groupby([\"station\"]).mean().sort_values(by='NOx').plot.bar(color='purple')\n",
    "plt.show()"
   ]
  },
  {
   "cell_type": "code",
   "execution_count": 52,
   "id": "37808cc2",
   "metadata": {},
   "outputs": [
    {
     "data": {
      "image/png": "[encoded data removed]",
      "text/plain": [
       "<Figure size 640x480 with 1 Axes>"
      ]
     },
     "metadata": {},
     "output_type": "display_data"
    }
   ],
   "source": [
    "taiwan_air_quality[['O3', 'station']].groupby([\"station\"]).mean().sort_values(by='O3').plot.bar(color='blue')\n",
    "plt.show()"
   ]
  },
  {
   "cell_type": "code",
   "execution_count": 53,
   "id": "cb8f6e20",
   "metadata": {},
   "outputs": [
    {
     "data": {
      "image/png": "[encoded data removed]",
      "text/plain": [
       "<Figure size 640x480 with 1 Axes>"
      ]
     },
     "metadata": {},
     "output_type": "display_data"
    }
   ],
   "source": [
    "taiwan_air_quality[['PM10', 'station']].groupby([\"station\"]).mean().sort_values(by='PM10').plot.bar(color='purple')\n",
    "plt.show()"
   ]
  },
  {
   "cell_type": "code",
   "execution_count": 56,
   "id": "41adfa86",
   "metadata": {},
   "outputs": [
    {
     "data": {
      "image/png": "[encoded data removed]",
      "text/plain": [
       "<Figure size 640x480 with 1 Axes>"
      ]
     },
     "metadata": {},
     "output_type": "display_data"
    }
   ],
   "source": [
    "taiwan_air_quality[['PM2.5', 'station']].groupby([\"station\"]).mean().sort_values(by='PM2.5').plot.bar(color='gray')\n",
    "plt.show()"
   ]
  },
  {
   "cell_type": "code",
   "execution_count": 57,
   "id": "6868bfc8",
   "metadata": {},
   "outputs": [
    {
     "data": {
      "text/html": [
       "<div>\n",
       "<style scoped>\n",
       "    .dataframe tbody tr th:only-of-type {\n",
       "        vertical-align: middle;\n",
       "    }\n",
       "\n",
       "    .dataframe tbody tr th {\n",
       "        vertical-align: top;\n",
       "    }\n",
       "\n",
       "    .dataframe thead th {\n",
       "        text-align: right;\n",
       "    }\n",
       "</style>\n",
       "<table border=\"1\" class=\"dataframe\">\n",
       "  <thead>\n",
       "    <tr style=\"text-align: right;\">\n",
       "      <th></th>\n",
       "      <th>SO2</th>\n",
       "      <th>Soi</th>\n",
       "    </tr>\n",
       "  </thead>\n",
       "  <tbody>\n",
       "    <tr>\n",
       "      <th>0</th>\n",
       "      <td>2.0</td>\n",
       "      <td>2.500</td>\n",
       "    </tr>\n",
       "    <tr>\n",
       "      <th>1</th>\n",
       "      <td>2.6</td>\n",
       "      <td>3.250</td>\n",
       "    </tr>\n",
       "    <tr>\n",
       "      <th>2</th>\n",
       "      <td>4.1</td>\n",
       "      <td>5.125</td>\n",
       "    </tr>\n",
       "    <tr>\n",
       "      <th>3</th>\n",
       "      <td>2.2</td>\n",
       "      <td>2.750</td>\n",
       "    </tr>\n",
       "    <tr>\n",
       "      <th>4</th>\n",
       "      <td>19.0</td>\n",
       "      <td>23.750</td>\n",
       "    </tr>\n",
       "  </tbody>\n",
       "</table>\n",
       "</div>"
      ],
      "text/plain": [
       "    SO2     Soi\n",
       "0   2.0   2.500\n",
       "1   2.6   3.250\n",
       "2   4.1   5.125\n",
       "3   2.2   2.750\n",
       "4  19.0  23.750"
      ]
     },
     "execution_count": 57,
     "metadata": {},
     "output_type": "execute_result"
    }
   ],
   "source": [
    "def cal_SOi(SO2):\n",
    "    si = 0\n",
    "    if (SO2 <= 40):\n",
    "        si = SO2 * (50/40)\n",
    "    elif (SO2 > 40 and SO2 <= 80):\n",
    "        si = 5 + (SO2 - 40) * (50/40)\n",
    "    elif (SO2 > 80 and SO2 <= 380):\n",
    "        si = 100 * (SO2 - 80) * (100/300)\n",
    "    elif (SO2 > 380 and SO2 <= 800):\n",
    "        si = 200 + (so2 - 380) * (100/420)\n",
    "    elif (SO2 > 800 and SO2 <= 1600):\n",
    "        si = 300 * (SO2 - 800) * (100/800)\n",
    "    elif (SO2 > 1600):\n",
    "        si = 400 + (SO2 - 1600) * (100/800)\n",
    "    return si\n",
    "\n",
    "taiwan_air_quality['Soi'] = taiwan_air_quality['SO2'].apply(cal_SOi)\n",
    "data=taiwan_air_quality[['SO2', 'Soi']]\n",
    "data.head()"
   ]
  },
  {
   "cell_type": "code",
   "execution_count": 58,
   "id": "088ecdd3",
   "metadata": {},
   "outputs": [
    {
     "data": {
      "text/html": [
       "<div>\n",
       "<style scoped>\n",
       "    .dataframe tbody tr th:only-of-type {\n",
       "        vertical-align: middle;\n",
       "    }\n",
       "\n",
       "    .dataframe tbody tr th {\n",
       "        vertical-align: top;\n",
       "    }\n",
       "\n",
       "    .dataframe thead th {\n",
       "        text-align: right;\n",
       "    }\n",
       "</style>\n",
       "<table border=\"1\" class=\"dataframe\">\n",
       "  <thead>\n",
       "    <tr style=\"text-align: right;\">\n",
       "      <th></th>\n",
       "      <th>NO2</th>\n",
       "      <th>Noi</th>\n",
       "    </tr>\n",
       "  </thead>\n",
       "  <tbody>\n",
       "    <tr>\n",
       "      <th>0</th>\n",
       "      <td>14.0</td>\n",
       "      <td>17.50</td>\n",
       "    </tr>\n",
       "    <tr>\n",
       "      <th>1</th>\n",
       "      <td>11.0</td>\n",
       "      <td>13.75</td>\n",
       "    </tr>\n",
       "    <tr>\n",
       "      <th>2</th>\n",
       "      <td>23.0</td>\n",
       "      <td>28.75</td>\n",
       "    </tr>\n",
       "    <tr>\n",
       "      <th>3</th>\n",
       "      <td>24.0</td>\n",
       "      <td>30.00</td>\n",
       "    </tr>\n",
       "    <tr>\n",
       "      <th>4</th>\n",
       "      <td>46.0</td>\n",
       "      <td>57.50</td>\n",
       "    </tr>\n",
       "  </tbody>\n",
       "</table>\n",
       "</div>"
      ],
      "text/plain": [
       "    NO2    Noi\n",
       "0  14.0  17.50\n",
       "1  11.0  13.75\n",
       "2  23.0  28.75\n",
       "3  24.0  30.00\n",
       "4  46.0  57.50"
      ]
     },
     "execution_count": 58,
     "metadata": {},
     "output_type": "execute_result"
    }
   ],
   "source": [
    "def cal_NOi(NO2):\n",
    "    ni = 0\n",
    "    if (NO2 <= 40):\n",
    "        ni = NO2*50/40\n",
    "    elif (NO2 > 40 and NO2 <= 80):\n",
    "        ni = 50 + (NO2 - 40) * (50/40)\n",
    "    elif (NO2 > 80 and NO2 <= 180):\n",
    "        ni = 100 + (NO2 - 80) * (100/100)\n",
    "    elif (NO2 > 180 and NO2 <= 280):\n",
    "        ni = 200 + (no2 - 180) * (100/100)\n",
    "    elif (NO2 >280 and NO2 <= 400):\n",
    "        ni = 300 + (NO2 - 280) * (100/120)\n",
    "    else:\n",
    "        ni = 400 + (NO2 - 400) * (100/120)\n",
    "    return ni\n",
    "    \n",
    "taiwan_air_quality['Noi'] = taiwan_air_quality['NO2'].apply(cal_NOi)\n",
    "data=taiwan_air_quality[['NO2', 'Noi']]\n",
    "data.head()"
   ]
  },
  {
   "cell_type": "code",
   "execution_count": null,
   "id": "f9f87fc5",
   "metadata": {},
   "outputs": [],
   "source": []
  },
  {
   "cell_type": "code",
   "execution_count": null,
   "id": "bc022b0a",
   "metadata": {},
   "outputs": [],
   "source": []
  },
  {
   "cell_type": "code",
   "execution_count": 59,
   "id": "47ccfb5e",
   "metadata": {},
   "outputs": [
    {
     "data": {
      "text/html": [
       "<div>\n",
       "<style scoped>\n",
       "    .dataframe tbody tr th:only-of-type {\n",
       "        vertical-align: middle;\n",
       "    }\n",
       "\n",
       "    .dataframe tbody tr th {\n",
       "        vertical-align: top;\n",
       "    }\n",
       "\n",
       "    .dataframe thead th {\n",
       "        text-align: right;\n",
       "    }\n",
       "</style>\n",
       "<table border=\"1\" class=\"dataframe\">\n",
       "  <thead>\n",
       "    <tr style=\"text-align: right;\">\n",
       "      <th></th>\n",
       "      <th>CH4</th>\n",
       "      <th>CH4i</th>\n",
       "    </tr>\n",
       "  </thead>\n",
       "  <tbody>\n",
       "    <tr>\n",
       "      <th>0</th>\n",
       "      <td>1.90</td>\n",
       "      <td>0.190</td>\n",
       "    </tr>\n",
       "    <tr>\n",
       "      <th>1</th>\n",
       "      <td>1.94</td>\n",
       "      <td>0.194</td>\n",
       "    </tr>\n",
       "    <tr>\n",
       "      <th>2</th>\n",
       "      <td>1.94</td>\n",
       "      <td>0.194</td>\n",
       "    </tr>\n",
       "    <tr>\n",
       "      <th>3</th>\n",
       "      <td>2.00</td>\n",
       "      <td>0.200</td>\n",
       "    </tr>\n",
       "    <tr>\n",
       "      <th>4</th>\n",
       "      <td>1.94</td>\n",
       "      <td>0.194</td>\n",
       "    </tr>\n",
       "  </tbody>\n",
       "</table>\n",
       "</div>"
      ],
      "text/plain": [
       "    CH4   CH4i\n",
       "0  1.90  0.190\n",
       "1  1.94  0.194\n",
       "2  1.94  0.194\n",
       "3  2.00  0.200\n",
       "4  1.94  0.194"
      ]
     },
     "execution_count": 59,
     "metadata": {},
     "output_type": "execute_result"
    }
   ],
   "source": [
    "def cal_CH4i(CH4):\n",
    "    si = 0\n",
    "    if (CH4 <= 500):\n",
    "        si = CH4 * (50/500)\n",
    "    elif (CH4 > 500 and CH4 <= 1000):\n",
    "        si = CH4 * (100/500)\n",
    "    elif (CH4 > 1000 and CH4 <= 2000):\n",
    "        si = CH4 * (150/1000)\n",
    "    elif (CH4 > 2000 and CH4 <= 4000):\n",
    "        si = CH4 * (200/2000)\n",
    "    elif (CH4 > 4000 and CH4 <= 5000):\n",
    "        si = CH4 * (300/1000)\n",
    "    elif (CH4 > 5000):\n",
    "        si = CH4 * (400/1000)\n",
    "    return si\n",
    "\n",
    "taiwan_air_quality['CH4i'] = taiwan_air_quality['CH4'].apply(cal_CH4i)\n",
    "data=taiwan_air_quality[['CH4', 'CH4i']]\n",
    "data.head()"
   ]
  },
  {
   "cell_type": "code",
   "execution_count": 60,
   "id": "71931593",
   "metadata": {},
   "outputs": [
    {
     "data": {
      "text/html": [
       "<div>\n",
       "<style scoped>\n",
       "    .dataframe tbody tr th:only-of-type {\n",
       "        vertical-align: middle;\n",
       "    }\n",
       "\n",
       "    .dataframe tbody tr th {\n",
       "        vertical-align: top;\n",
       "    }\n",
       "\n",
       "    .dataframe thead th {\n",
       "        text-align: right;\n",
       "    }\n",
       "</style>\n",
       "<table border=\"1\" class=\"dataframe\">\n",
       "  <thead>\n",
       "    <tr style=\"text-align: right;\">\n",
       "      <th></th>\n",
       "      <th>CO</th>\n",
       "      <th>COi</th>\n",
       "    </tr>\n",
       "  </thead>\n",
       "  <tbody>\n",
       "    <tr>\n",
       "      <th>0</th>\n",
       "      <td>0.78</td>\n",
       "      <td>8.863636</td>\n",
       "    </tr>\n",
       "    <tr>\n",
       "      <th>1</th>\n",
       "      <td>0.35</td>\n",
       "      <td>3.977273</td>\n",
       "    </tr>\n",
       "    <tr>\n",
       "      <th>2</th>\n",
       "      <td>0.59</td>\n",
       "      <td>6.704545</td>\n",
       "    </tr>\n",
       "    <tr>\n",
       "      <th>3</th>\n",
       "      <td>0.71</td>\n",
       "      <td>8.068182</td>\n",
       "    </tr>\n",
       "    <tr>\n",
       "      <th>4</th>\n",
       "      <td>0.45</td>\n",
       "      <td>5.113636</td>\n",
       "    </tr>\n",
       "  </tbody>\n",
       "</table>\n",
       "</div>"
      ],
      "text/plain": [
       "     CO       COi\n",
       "0  0.78  8.863636\n",
       "1  0.35  3.977273\n",
       "2  0.59  6.704545\n",
       "3  0.71  8.068182\n",
       "4  0.45  5.113636"
      ]
     },
     "execution_count": 60,
     "metadata": {},
     "output_type": "execute_result"
    }
   ],
   "source": [
    "def cal_COi(CO):\n",
    "    si = 0\n",
    "    if (CO <= 4.4):\n",
    "        si = CO * (50/4.4)\n",
    "    elif (CO > 4.4 and CO <= 9.4):\n",
    "        si = CO * (100/5)\n",
    "    elif (CO > 9.4 and CO <= 12.4):\n",
    "        si = CO * (150/3)\n",
    "    elif (CO > 12.4 and CO <= 15.4):\n",
    "        si = CO * (200/3)\n",
    "    elif (CO > 15.4 and CO <= 30.4):\n",
    "        si = CO * (300/15)\n",
    "    elif (CO > 30.4):\n",
    "        si = CO * (400/15)\n",
    "    return si\n",
    "\n",
    "taiwan_air_quality['COi'] = taiwan_air_quality['CO'].apply(cal_COi)\n",
    "data = taiwan_air_quality[['CO', 'COi']]\n",
    "data.head()"
   ]
  },
  {
   "cell_type": "code",
   "execution_count": 61,
   "id": "656b153f",
   "metadata": {},
   "outputs": [
    {
     "data": {
      "text/html": [
       "<div>\n",
       "<style scoped>\n",
       "    .dataframe tbody tr th:only-of-type {\n",
       "        vertical-align: middle;\n",
       "    }\n",
       "\n",
       "    .dataframe tbody tr th {\n",
       "        vertical-align: top;\n",
       "    }\n",
       "\n",
       "    .dataframe thead th {\n",
       "        text-align: right;\n",
       "    }\n",
       "</style>\n",
       "<table border=\"1\" class=\"dataframe\">\n",
       "  <thead>\n",
       "    <tr style=\"text-align: right;\">\n",
       "      <th></th>\n",
       "      <th>NO</th>\n",
       "      <th>NOi</th>\n",
       "    </tr>\n",
       "  </thead>\n",
       "  <tbody>\n",
       "    <tr>\n",
       "      <th>0</th>\n",
       "      <td>17.0</td>\n",
       "      <td>8.50</td>\n",
       "    </tr>\n",
       "    <tr>\n",
       "      <th>1</th>\n",
       "      <td>2.8</td>\n",
       "      <td>1.40</td>\n",
       "    </tr>\n",
       "    <tr>\n",
       "      <th>2</th>\n",
       "      <td>14.0</td>\n",
       "      <td>7.00</td>\n",
       "    </tr>\n",
       "    <tr>\n",
       "      <th>3</th>\n",
       "      <td>1.0</td>\n",
       "      <td>0.50</td>\n",
       "    </tr>\n",
       "    <tr>\n",
       "      <th>4</th>\n",
       "      <td>3.1</td>\n",
       "      <td>1.55</td>\n",
       "    </tr>\n",
       "  </tbody>\n",
       "</table>\n",
       "</div>"
      ],
      "text/plain": [
       "     NO   NOi\n",
       "0  17.0  8.50\n",
       "1   2.8  1.40\n",
       "2  14.0  7.00\n",
       "3   1.0  0.50\n",
       "4   3.1  1.55"
      ]
     },
     "execution_count": 61,
     "metadata": {},
     "output_type": "execute_result"
    }
   ],
   "source": [
    "def cal_NOi(NO):\n",
    "    si = 0\n",
    "    if (NO <= 100):\n",
    "        si = NO * (50/100)\n",
    "    elif (NO > 100 and NO <= 200):\n",
    "        si = NO * (50/100) + 50*(NO-100)/(200-100)\n",
    "    elif (NO > 200 and NO <= 700):\n",
    "        si = NO * (100/500) + 50*(NO-200)/(700-200)\n",
    "    elif (NO > 700 and NO <= 1200):\n",
    "        si = NO * (100/500) + 100*(NO-700)/(1200-700)\n",
    "    elif (NO > 1200 and NO <= 2340):\n",
    "        si = NO * (200/1140) + 100*(NO-1200)/(2340-1200)\n",
    "    elif (NO > 2340):\n",
    "        si = NO * (200/1140) + 200*(NO-2340)/(3090-2340)\n",
    "    return si\n",
    "\n",
    "taiwan_air_quality['NOi'] = taiwan_air_quality['NO'].apply(cal_NOi)\n",
    "data = taiwan_air_quality[['NO', 'NOi']]\n",
    "data.head()"
   ]
  },
  {
   "cell_type": "code",
   "execution_count": 62,
   "id": "f0241082",
   "metadata": {},
   "outputs": [
    {
     "data": {
      "text/html": [
       "<div>\n",
       "<style scoped>\n",
       "    .dataframe tbody tr th:only-of-type {\n",
       "        vertical-align: middle;\n",
       "    }\n",
       "\n",
       "    .dataframe tbody tr th {\n",
       "        vertical-align: top;\n",
       "    }\n",
       "\n",
       "    .dataframe thead th {\n",
       "        text-align: right;\n",
       "    }\n",
       "</style>\n",
       "<table border=\"1\" class=\"dataframe\">\n",
       "  <thead>\n",
       "    <tr style=\"text-align: right;\">\n",
       "      <th></th>\n",
       "      <th>O3</th>\n",
       "      <th>O3i</th>\n",
       "    </tr>\n",
       "  </thead>\n",
       "  <tbody>\n",
       "    <tr>\n",
       "      <th>0</th>\n",
       "      <td>18.0</td>\n",
       "      <td>16.666667</td>\n",
       "    </tr>\n",
       "    <tr>\n",
       "      <th>1</th>\n",
       "      <td>49.0</td>\n",
       "      <td>45.370370</td>\n",
       "    </tr>\n",
       "    <tr>\n",
       "      <th>2</th>\n",
       "      <td>3.1</td>\n",
       "      <td>2.870370</td>\n",
       "    </tr>\n",
       "    <tr>\n",
       "      <th>3</th>\n",
       "      <td>20.0</td>\n",
       "      <td>18.518519</td>\n",
       "    </tr>\n",
       "    <tr>\n",
       "      <th>4</th>\n",
       "      <td>7.7</td>\n",
       "      <td>7.129630</td>\n",
       "    </tr>\n",
       "  </tbody>\n",
       "</table>\n",
       "</div>"
      ],
      "text/plain": [
       "     O3        O3i\n",
       "0  18.0  16.666667\n",
       "1  49.0  45.370370\n",
       "2   3.1   2.870370\n",
       "3  20.0  18.518519\n",
       "4   7.7   7.129630"
      ]
     },
     "execution_count": 62,
     "metadata": {},
     "output_type": "execute_result"
    }
   ],
   "source": [
    "def cal_O3i(O3):\n",
    "    si = 0\n",
    "    if (O3 <= 54):\n",
    "        si = O3 * (50/54)\n",
    "    elif (O3 > 54 and O3 <= 70):\n",
    "        si = O3 * (50/16) - 225\n",
    "    elif (O3 > 70 and O3 <= 85):\n",
    "        si = O3 * (100/15) - 500\n",
    "    elif (O3 > 85 and O3 <= 105):\n",
    "        si = O3 * (150/20) - 750\n",
    "    elif (O3 > 105 and O3 <= 200):\n",
    "        si = O3 * (200/95) - 1000\n",
    "    elif (O3 > 200 and O3 <= 405):\n",
    "        si = O3 * (300/205) - 1400\n",
    "    elif (O3 > 405):\n",
    "        si = O3 * (400/200) - 2000\n",
    "    return si\n",
    "\n",
    "taiwan_air_quality['O3i'] = taiwan_air_quality['O3'].apply(cal_O3i)\n",
    "data = taiwan_air_quality[['O3', 'O3i']]\n",
    "data.head()"
   ]
  },
  {
   "cell_type": "code",
   "execution_count": 63,
   "id": "48fbbd22",
   "metadata": {},
   "outputs": [
    {
     "data": {
      "text/html": [
       "<div>\n",
       "<style scoped>\n",
       "    .dataframe tbody tr th:only-of-type {\n",
       "        vertical-align: middle;\n",
       "    }\n",
       "\n",
       "    .dataframe tbody tr th {\n",
       "        vertical-align: top;\n",
       "    }\n",
       "\n",
       "    .dataframe thead th {\n",
       "        text-align: right;\n",
       "    }\n",
       "</style>\n",
       "<table border=\"1\" class=\"dataframe\">\n",
       "  <thead>\n",
       "    <tr style=\"text-align: right;\">\n",
       "      <th></th>\n",
       "      <th>PM10</th>\n",
       "      <th>PM10i</th>\n",
       "    </tr>\n",
       "  </thead>\n",
       "  <tbody>\n",
       "    <tr>\n",
       "      <th>0</th>\n",
       "      <td>56.0</td>\n",
       "      <td>56.000000</td>\n",
       "    </tr>\n",
       "    <tr>\n",
       "      <th>1</th>\n",
       "      <td>26.0</td>\n",
       "      <td>24.074074</td>\n",
       "    </tr>\n",
       "    <tr>\n",
       "      <th>2</th>\n",
       "      <td>28.0</td>\n",
       "      <td>25.925926</td>\n",
       "    </tr>\n",
       "    <tr>\n",
       "      <th>3</th>\n",
       "      <td>38.0</td>\n",
       "      <td>35.185185</td>\n",
       "    </tr>\n",
       "    <tr>\n",
       "      <th>4</th>\n",
       "      <td>99.0</td>\n",
       "      <td>99.000000</td>\n",
       "    </tr>\n",
       "  </tbody>\n",
       "</table>\n",
       "</div>"
      ],
      "text/plain": [
       "   PM10      PM10i\n",
       "0  56.0  56.000000\n",
       "1  26.0  24.074074\n",
       "2  28.0  25.925926\n",
       "3  38.0  35.185185\n",
       "4  99.0  99.000000"
      ]
     },
     "execution_count": 63,
     "metadata": {},
     "output_type": "execute_result"
    }
   ],
   "source": [
    "def cal_PM10i(PM10):\n",
    "    si = 0\n",
    "    if (PM10 <= 54):\n",
    "        si = PM10 * (50/54)\n",
    "    elif (PM10 > 54 and PM10 <= 154):\n",
    "        si = PM10 * (100/100)\n",
    "    elif (PM10 > 154 and PM10 <= 254):\n",
    "        si = PM10 * (150/100)\n",
    "    elif (PM10 > 254 and PM10 <= 354):\n",
    "        si = PM10 * (200/100)\n",
    "    elif (PM10 > 354 and PM10 <= 424):\n",
    "        si = PM10 * (300/70)\n",
    "    elif (PM10 > 424):\n",
    "        si = PM10 * (400/70)\n",
    "    return si\n",
    "\n",
    "taiwan_air_quality['PM10i'] = taiwan_air_quality['PM10'].apply(cal_PM10i)\n",
    "data = taiwan_air_quality[['PM10', 'PM10i']]\n",
    "data.head()"
   ]
  },
  {
   "cell_type": "code",
   "execution_count": 64,
   "id": "f13c8124",
   "metadata": {},
   "outputs": [
    {
     "data": {
      "text/html": [
       "<div>\n",
       "<style scoped>\n",
       "    .dataframe tbody tr th:only-of-type {\n",
       "        vertical-align: middle;\n",
       "    }\n",
       "\n",
       "    .dataframe tbody tr th {\n",
       "        vertical-align: top;\n",
       "    }\n",
       "\n",
       "    .dataframe thead th {\n",
       "        text-align: right;\n",
       "    }\n",
       "</style>\n",
       "<table border=\"1\" class=\"dataframe\">\n",
       "  <thead>\n",
       "    <tr style=\"text-align: right;\">\n",
       "      <th></th>\n",
       "      <th>PM2.5</th>\n",
       "      <th>PM25i</th>\n",
       "    </tr>\n",
       "  </thead>\n",
       "  <tbody>\n",
       "    <tr>\n",
       "      <th>0</th>\n",
       "      <td>19.0</td>\n",
       "      <td>81.196581</td>\n",
       "    </tr>\n",
       "    <tr>\n",
       "      <th>1</th>\n",
       "      <td>22.0</td>\n",
       "      <td>94.017094</td>\n",
       "    </tr>\n",
       "    <tr>\n",
       "      <th>2</th>\n",
       "      <td>9.0</td>\n",
       "      <td>37.500000</td>\n",
       "    </tr>\n",
       "    <tr>\n",
       "      <th>3</th>\n",
       "      <td>13.0</td>\n",
       "      <td>55.555556</td>\n",
       "    </tr>\n",
       "    <tr>\n",
       "      <th>4</th>\n",
       "      <td>38.0</td>\n",
       "      <td>285.000000</td>\n",
       "    </tr>\n",
       "  </tbody>\n",
       "</table>\n",
       "</div>"
      ],
      "text/plain": [
       "   PM2.5       PM25i\n",
       "0   19.0   81.196581\n",
       "1   22.0   94.017094\n",
       "2    9.0   37.500000\n",
       "3   13.0   55.555556\n",
       "4   38.0  285.000000"
      ]
     },
     "execution_count": 64,
     "metadata": {},
     "output_type": "execute_result"
    }
   ],
   "source": [
    "def cal_PM25i(PM25):\n",
    "    si = 0\n",
    "    if (PM25 <= 12):\n",
    "        si = PM25 * (50/12)\n",
    "    elif (PM25 > 12 and PM25 <= 35.4):\n",
    "        si = PM25 * (100/23.4)\n",
    "    elif (PM25 > 35.4 and PM25 <= 55.4):\n",
    "        si = PM25 * (150/20)\n",
    "    elif (PM25 > 55.4 and PM25 <= 150.4):\n",
    "        si = PM25 * (200/95)\n",
    "    elif (PM25 > 150.4 and PM25 <= 250.4):\n",
    "        si = PM25 * (300/100)\n",
    "    elif (PM25 > 250.4 and PM25 <= 350.4):\n",
    "        si = PM25 * (400/100)\n",
    "    elif (PM25 > 350.4 and PM25 <= 500.4):\n",
    "        si = PM25 * (500/150)\n",
    "    return si\n",
    "\n",
    "taiwan_air_quality['PM25i'] = taiwan_air_quality['PM2.5'].apply(cal_PM25i)\n",
    "data = taiwan_air_quality[['PM2.5', 'PM25i']]\n",
    "data.head()"
   ]
  },
  {
   "cell_type": "code",
   "execution_count": 65,
   "id": "32e22cba",
   "metadata": {},
   "outputs": [
    {
     "data": {
      "text/html": [
       "<div>\n",
       "<style scoped>\n",
       "    .dataframe tbody tr th:only-of-type {\n",
       "        vertical-align: middle;\n",
       "    }\n",
       "\n",
       "    .dataframe tbody tr th {\n",
       "        vertical-align: top;\n",
       "    }\n",
       "\n",
       "    .dataframe thead th {\n",
       "        text-align: right;\n",
       "    }\n",
       "</style>\n",
       "<table border=\"1\" class=\"dataframe\">\n",
       "  <thead>\n",
       "    <tr style=\"text-align: right;\">\n",
       "      <th></th>\n",
       "      <th>station</th>\n",
       "      <th>Soi</th>\n",
       "      <th>Noi</th>\n",
       "      <th>COi</th>\n",
       "      <th>NOi</th>\n",
       "      <th>O3i</th>\n",
       "      <th>PM10i</th>\n",
       "      <th>PM25i</th>\n",
       "      <th>AQI</th>\n",
       "    </tr>\n",
       "  </thead>\n",
       "  <tbody>\n",
       "    <tr>\n",
       "      <th>0</th>\n",
       "      <td>Zhongli</td>\n",
       "      <td>2.500</td>\n",
       "      <td>17.50</td>\n",
       "      <td>8.863636</td>\n",
       "      <td>8.50</td>\n",
       "      <td>16.666667</td>\n",
       "      <td>56.000000</td>\n",
       "      <td>81.196581</td>\n",
       "      <td>81.196581</td>\n",
       "    </tr>\n",
       "    <tr>\n",
       "      <th>1</th>\n",
       "      <td>Wanhua</td>\n",
       "      <td>3.250</td>\n",
       "      <td>13.75</td>\n",
       "      <td>3.977273</td>\n",
       "      <td>1.40</td>\n",
       "      <td>45.370370</td>\n",
       "      <td>24.074074</td>\n",
       "      <td>94.017094</td>\n",
       "      <td>94.017094</td>\n",
       "    </tr>\n",
       "    <tr>\n",
       "      <th>2</th>\n",
       "      <td>Tamsui</td>\n",
       "      <td>5.125</td>\n",
       "      <td>28.75</td>\n",
       "      <td>6.704545</td>\n",
       "      <td>7.00</td>\n",
       "      <td>2.870370</td>\n",
       "      <td>25.925926</td>\n",
       "      <td>37.500000</td>\n",
       "      <td>37.500000</td>\n",
       "    </tr>\n",
       "    <tr>\n",
       "      <th>3</th>\n",
       "      <td>Banqiao</td>\n",
       "      <td>2.750</td>\n",
       "      <td>30.00</td>\n",
       "      <td>8.068182</td>\n",
       "      <td>0.50</td>\n",
       "      <td>18.518519</td>\n",
       "      <td>35.185185</td>\n",
       "      <td>55.555556</td>\n",
       "      <td>55.555556</td>\n",
       "    </tr>\n",
       "    <tr>\n",
       "      <th>4</th>\n",
       "      <td>Guanyin</td>\n",
       "      <td>23.750</td>\n",
       "      <td>57.50</td>\n",
       "      <td>5.113636</td>\n",
       "      <td>1.55</td>\n",
       "      <td>7.129630</td>\n",
       "      <td>99.000000</td>\n",
       "      <td>285.000000</td>\n",
       "      <td>285.000000</td>\n",
       "    </tr>\n",
       "  </tbody>\n",
       "</table>\n",
       "</div>"
      ],
      "text/plain": [
       "   station     Soi    Noi       COi   NOi        O3i      PM10i       PM25i  \\\n",
       "0  Zhongli   2.500  17.50  8.863636  8.50  16.666667  56.000000   81.196581   \n",
       "1   Wanhua   3.250  13.75  3.977273  1.40  45.370370  24.074074   94.017094   \n",
       "2   Tamsui   5.125  28.75  6.704545  7.00   2.870370  25.925926   37.500000   \n",
       "3  Banqiao   2.750  30.00  8.068182  0.50  18.518519  35.185185   55.555556   \n",
       "4  Guanyin  23.750  57.50  5.113636  1.55   7.129630  99.000000  285.000000   \n",
       "\n",
       "          AQI  \n",
       "0   81.196581  \n",
       "1   94.017094  \n",
       "2   37.500000  \n",
       "3   55.555556  \n",
       "4  285.000000  "
      ]
     },
     "execution_count": 65,
     "metadata": {},
     "output_type": "execute_result"
    }
   ],
   "source": [
    "def cal_aqi(si, ni, coi, noi, o3i, pm10i, pm25i):\n",
    "    aqi = 0\n",
    "    if si > ni and si > coi and si > noi and si > o3i and si > pm10i and si > pm25i:\n",
    "        aqi = si\n",
    "    elif ni > si and ni > coi and ni > noi and ni > o3i and ni > pm10i and ni > pm25i:\n",
    "        aqi = ni\n",
    "    elif coi > si and coi > ni and coi > noi and coi > o3i and coi > pm10i and coi > pm25i:\n",
    "        aqi = coi\n",
    "    elif noi > si and noi > ni and noi > coi and noi > o3i and noi > pm10i and noi > pm25i:\n",
    "        aqi = noi\n",
    "    elif o3i > si and o3i > ni and o3i > coi and o3i > noi and o3i > pm10i and o3i > pm25i:\n",
    "        aqi = o3i\n",
    "    elif pm10i > si and pm10i > ni and pm10i > coi and pm10i > noi and pm10i > o3i and pm10i > pm25i:\n",
    "        aqi = pm10i\n",
    "    elif pm25i > si and pm25i > ni and pm25i > coi and pm25i > noi and pm25i > o3i and pm25i > pm10i:\n",
    "        aqi = pm25i\n",
    "    else:\n",
    "        aqi = max(si, ni, coi, noi, o3i, pm10i, pm25i)\n",
    "    return aqi\n",
    "\n",
    "taiwan_air_quality['AQI'] = taiwan_air_quality.apply(lambda x: cal_aqi(x['Soi'], x['Noi'], x['COi'], x['NOi'], x['O3i'], x['PM10i'], x['PM25i']), axis=1)\n",
    "data = taiwan_air_quality[['station', 'Soi', 'Noi', 'COi', 'NOi', 'O3i', 'PM10i', 'PM25i', 'AQI']]\n",
    "data.head()"
   ]
  },
  {
   "cell_type": "code",
   "execution_count": 66,
   "id": "e31071ff",
   "metadata": {},
   "outputs": [
    {
     "data": {
      "text/html": [
       "<div>\n",
       "<style scoped>\n",
       "    .dataframe tbody tr th:only-of-type {\n",
       "        vertical-align: middle;\n",
       "    }\n",
       "\n",
       "    .dataframe tbody tr th {\n",
       "        vertical-align: top;\n",
       "    }\n",
       "\n",
       "    .dataframe thead th {\n",
       "        text-align: right;\n",
       "    }\n",
       "</style>\n",
       "<table border=\"1\" class=\"dataframe\">\n",
       "  <thead>\n",
       "    <tr style=\"text-align: right;\">\n",
       "      <th></th>\n",
       "      <th>time</th>\n",
       "      <th>station</th>\n",
       "      <th>CH4</th>\n",
       "      <th>CO</th>\n",
       "      <th>NO</th>\n",
       "      <th>NO2</th>\n",
       "      <th>NOx</th>\n",
       "      <th>O3</th>\n",
       "      <th>PM10</th>\n",
       "      <th>PM2.5</th>\n",
       "      <th>SO2</th>\n",
       "      <th>Soi</th>\n",
       "      <th>Noi</th>\n",
       "      <th>CH4i</th>\n",
       "      <th>COi</th>\n",
       "      <th>NOi</th>\n",
       "      <th>O3i</th>\n",
       "      <th>PM10i</th>\n",
       "      <th>PM25i</th>\n",
       "      <th>AQI</th>\n",
       "      <th>AQI_Range</th>\n",
       "    </tr>\n",
       "  </thead>\n",
       "  <tbody>\n",
       "    <tr>\n",
       "      <th>0</th>\n",
       "      <td>2015/05/09 14:00</td>\n",
       "      <td>Zhongli</td>\n",
       "      <td>1.90</td>\n",
       "      <td>0.78</td>\n",
       "      <td>17.0</td>\n",
       "      <td>14.0</td>\n",
       "      <td>31.0</td>\n",
       "      <td>18.0</td>\n",
       "      <td>56.0</td>\n",
       "      <td>19.0</td>\n",
       "      <td>2.0</td>\n",
       "      <td>2.500</td>\n",
       "      <td>17.50</td>\n",
       "      <td>0.190</td>\n",
       "      <td>8.863636</td>\n",
       "      <td>8.50</td>\n",
       "      <td>16.666667</td>\n",
       "      <td>56.000000</td>\n",
       "      <td>81.196581</td>\n",
       "      <td>81.196581</td>\n",
       "      <td>satisfactory</td>\n",
       "    </tr>\n",
       "    <tr>\n",
       "      <th>1</th>\n",
       "      <td>2015/08/24 15:00</td>\n",
       "      <td>Wanhua</td>\n",
       "      <td>1.94</td>\n",
       "      <td>0.35</td>\n",
       "      <td>2.8</td>\n",
       "      <td>11.0</td>\n",
       "      <td>14.0</td>\n",
       "      <td>49.0</td>\n",
       "      <td>26.0</td>\n",
       "      <td>22.0</td>\n",
       "      <td>2.6</td>\n",
       "      <td>3.250</td>\n",
       "      <td>13.75</td>\n",
       "      <td>0.194</td>\n",
       "      <td>3.977273</td>\n",
       "      <td>1.40</td>\n",
       "      <td>45.370370</td>\n",
       "      <td>24.074074</td>\n",
       "      <td>94.017094</td>\n",
       "      <td>94.017094</td>\n",
       "      <td>satisfactory</td>\n",
       "    </tr>\n",
       "    <tr>\n",
       "      <th>2</th>\n",
       "      <td>2015/12/02 07:00</td>\n",
       "      <td>Tamsui</td>\n",
       "      <td>1.94</td>\n",
       "      <td>0.59</td>\n",
       "      <td>14.0</td>\n",
       "      <td>23.0</td>\n",
       "      <td>37.0</td>\n",
       "      <td>3.1</td>\n",
       "      <td>28.0</td>\n",
       "      <td>9.0</td>\n",
       "      <td>4.1</td>\n",
       "      <td>5.125</td>\n",
       "      <td>28.75</td>\n",
       "      <td>0.194</td>\n",
       "      <td>6.704545</td>\n",
       "      <td>7.00</td>\n",
       "      <td>2.870370</td>\n",
       "      <td>25.925926</td>\n",
       "      <td>37.500000</td>\n",
       "      <td>37.500000</td>\n",
       "      <td>Good</td>\n",
       "    </tr>\n",
       "    <tr>\n",
       "      <th>3</th>\n",
       "      <td>2015/10/02 21:00</td>\n",
       "      <td>Banqiao</td>\n",
       "      <td>2.00</td>\n",
       "      <td>0.71</td>\n",
       "      <td>1.0</td>\n",
       "      <td>24.0</td>\n",
       "      <td>25.0</td>\n",
       "      <td>20.0</td>\n",
       "      <td>38.0</td>\n",
       "      <td>13.0</td>\n",
       "      <td>2.2</td>\n",
       "      <td>2.750</td>\n",
       "      <td>30.00</td>\n",
       "      <td>0.200</td>\n",
       "      <td>8.068182</td>\n",
       "      <td>0.50</td>\n",
       "      <td>18.518519</td>\n",
       "      <td>35.185185</td>\n",
       "      <td>55.555556</td>\n",
       "      <td>55.555556</td>\n",
       "      <td>satisfactory</td>\n",
       "    </tr>\n",
       "    <tr>\n",
       "      <th>4</th>\n",
       "      <td>2015/04/17 03:00</td>\n",
       "      <td>Guanyin</td>\n",
       "      <td>1.94</td>\n",
       "      <td>0.45</td>\n",
       "      <td>3.1</td>\n",
       "      <td>46.0</td>\n",
       "      <td>49.0</td>\n",
       "      <td>7.7</td>\n",
       "      <td>99.0</td>\n",
       "      <td>38.0</td>\n",
       "      <td>19.0</td>\n",
       "      <td>23.750</td>\n",
       "      <td>57.50</td>\n",
       "      <td>0.194</td>\n",
       "      <td>5.113636</td>\n",
       "      <td>1.55</td>\n",
       "      <td>7.129630</td>\n",
       "      <td>99.000000</td>\n",
       "      <td>285.000000</td>\n",
       "      <td>285.000000</td>\n",
       "      <td>poor</td>\n",
       "    </tr>\n",
       "  </tbody>\n",
       "</table>\n",
       "</div>"
      ],
      "text/plain": [
       "               time  station   CH4    CO    NO   NO2   NOx    O3  PM10  PM2.5  \\\n",
       "0  2015/05/09 14:00  Zhongli  1.90  0.78  17.0  14.0  31.0  18.0  56.0   19.0   \n",
       "1  2015/08/24 15:00   Wanhua  1.94  0.35   2.8  11.0  14.0  49.0  26.0   22.0   \n",
       "2  2015/12/02 07:00   Tamsui  1.94  0.59  14.0  23.0  37.0   3.1  28.0    9.0   \n",
       "3  2015/10/02 21:00  Banqiao  2.00  0.71   1.0  24.0  25.0  20.0  38.0   13.0   \n",
       "4  2015/04/17 03:00  Guanyin  1.94  0.45   3.1  46.0  49.0   7.7  99.0   38.0   \n",
       "\n",
       "    SO2     Soi    Noi   CH4i       COi   NOi        O3i      PM10i  \\\n",
       "0   2.0   2.500  17.50  0.190  8.863636  8.50  16.666667  56.000000   \n",
       "1   2.6   3.250  13.75  0.194  3.977273  1.40  45.370370  24.074074   \n",
       "2   4.1   5.125  28.75  0.194  6.704545  7.00   2.870370  25.925926   \n",
       "3   2.2   2.750  30.00  0.200  8.068182  0.50  18.518519  35.185185   \n",
       "4  19.0  23.750  57.50  0.194  5.113636  1.55   7.129630  99.000000   \n",
       "\n",
       "        PM25i         AQI     AQI_Range  \n",
       "0   81.196581   81.196581  satisfactory  \n",
       "1   94.017094   94.017094  satisfactory  \n",
       "2   37.500000   37.500000          Good  \n",
       "3   55.555556   55.555556  satisfactory  \n",
       "4  285.000000  285.000000          poor  "
      ]
     },
     "execution_count": 66,
     "metadata": {},
     "output_type": "execute_result"
    }
   ],
   "source": [
    "def AQI_Range(x):\n",
    "    if x<=50:\n",
    "        return \"Good\"\n",
    "    elif x>50 and x<=100:\n",
    "        return \"satisfactory\"\n",
    "    elif x>100 and x<=200:\n",
    "        return \"moderate\"\n",
    "    elif x>200 and x<=300:\n",
    "        return \"poor\"\n",
    "    elif x>300 and x<=400:\n",
    "        return \"severe\"\n",
    "    elif x>400:\n",
    "        return \"hazardous\" \n",
    "    \n",
    "taiwan_air_quality[\"AQI_Range\"]=taiwan_air_quality['AQI'].apply(AQI_Range)\n",
    "taiwan_air_quality.head()"
   ]
  },
  {
   "cell_type": "code",
   "execution_count": 67,
   "id": "bfe2e1a0",
   "metadata": {},
   "outputs": [
    {
     "data": {
      "text/plain": [
       "satisfactory    3852\n",
       "Good            3456\n",
       "moderate        1837\n",
       "severe           440\n",
       "poor             371\n",
       "hazardous         44\n",
       "Name: AQI_Range, dtype: int64"
      ]
     },
     "execution_count": 67,
     "metadata": {},
     "output_type": "execute_result"
    }
   ],
   "source": [
    "taiwan_air_quality[\"AQI_Range\"].value_counts()"
   ]
  },
  {
   "cell_type": "code",
   "execution_count": 68,
   "id": "a4cc990d",
   "metadata": {},
   "outputs": [
    {
     "data": {
      "text/html": [
       "<div>\n",
       "<style scoped>\n",
       "    .dataframe tbody tr th:only-of-type {\n",
       "        vertical-align: middle;\n",
       "    }\n",
       "\n",
       "    .dataframe tbody tr th {\n",
       "        vertical-align: top;\n",
       "    }\n",
       "\n",
       "    .dataframe thead th {\n",
       "        text-align: right;\n",
       "    }\n",
       "</style>\n",
       "<table border=\"1\" class=\"dataframe\">\n",
       "  <thead>\n",
       "    <tr style=\"text-align: right;\">\n",
       "      <th></th>\n",
       "      <th>Soi</th>\n",
       "      <th>Noi</th>\n",
       "      <th>COi</th>\n",
       "      <th>NOi</th>\n",
       "      <th>O3i</th>\n",
       "      <th>PM10i</th>\n",
       "      <th>PM25i</th>\n",
       "    </tr>\n",
       "  </thead>\n",
       "  <tbody>\n",
       "    <tr>\n",
       "      <th>0</th>\n",
       "      <td>2.500</td>\n",
       "      <td>17.50</td>\n",
       "      <td>8.863636</td>\n",
       "      <td>8.50</td>\n",
       "      <td>16.666667</td>\n",
       "      <td>56.000000</td>\n",
       "      <td>81.196581</td>\n",
       "    </tr>\n",
       "    <tr>\n",
       "      <th>1</th>\n",
       "      <td>3.250</td>\n",
       "      <td>13.75</td>\n",
       "      <td>3.977273</td>\n",
       "      <td>1.40</td>\n",
       "      <td>45.370370</td>\n",
       "      <td>24.074074</td>\n",
       "      <td>94.017094</td>\n",
       "    </tr>\n",
       "    <tr>\n",
       "      <th>2</th>\n",
       "      <td>5.125</td>\n",
       "      <td>28.75</td>\n",
       "      <td>6.704545</td>\n",
       "      <td>7.00</td>\n",
       "      <td>2.870370</td>\n",
       "      <td>25.925926</td>\n",
       "      <td>37.500000</td>\n",
       "    </tr>\n",
       "    <tr>\n",
       "      <th>3</th>\n",
       "      <td>2.750</td>\n",
       "      <td>30.00</td>\n",
       "      <td>8.068182</td>\n",
       "      <td>0.50</td>\n",
       "      <td>18.518519</td>\n",
       "      <td>35.185185</td>\n",
       "      <td>55.555556</td>\n",
       "    </tr>\n",
       "    <tr>\n",
       "      <th>4</th>\n",
       "      <td>23.750</td>\n",
       "      <td>57.50</td>\n",
       "      <td>5.113636</td>\n",
       "      <td>1.55</td>\n",
       "      <td>7.129630</td>\n",
       "      <td>99.000000</td>\n",
       "      <td>285.000000</td>\n",
       "    </tr>\n",
       "  </tbody>\n",
       "</table>\n",
       "</div>"
      ],
      "text/plain": [
       "      Soi    Noi       COi   NOi        O3i      PM10i       PM25i\n",
       "0   2.500  17.50  8.863636  8.50  16.666667  56.000000   81.196581\n",
       "1   3.250  13.75  3.977273  1.40  45.370370  24.074074   94.017094\n",
       "2   5.125  28.75  6.704545  7.00   2.870370  25.925926   37.500000\n",
       "3   2.750  30.00  8.068182  0.50  18.518519  35.185185   55.555556\n",
       "4  23.750  57.50  5.113636  1.55   7.129630  99.000000  285.000000"
      ]
     },
     "execution_count": 68,
     "metadata": {},
     "output_type": "execute_result"
    }
   ],
   "source": [
    "X=taiwan_air_quality[['Soi','Noi','COi','NOi','O3i','PM10i','PM25i']]\n",
    "Y=taiwan_air_quality['AQI']\n",
    "X.head()\n"
   ]
  },
  {
   "cell_type": "code",
   "execution_count": 88,
   "id": "acaa670a",
   "metadata": {},
   "outputs": [],
   "source": [
    "from sklearn.model_selection import train_test_split\n"
   ]
  },
  {
   "cell_type": "code",
   "execution_count": 76,
   "id": "bc09f53c",
   "metadata": {},
   "outputs": [
    {
     "name": "stdout",
     "output_type": "stream",
     "text": [
      "(8000, 7) (2000, 7) (8000,) (2000,)\n"
     ]
    }
   ],
   "source": [
    "X_train, X_test,Y_train, Y_test=train_test_split(X,Y,test_size=0.2, random_state=70)\n",
    "print(X_train.shape,X_test.shape, Y_train.shape, Y_test.shape)"
   ]
  },
  {
   "cell_type": "code",
   "execution_count": null,
   "id": "98cbb605",
   "metadata": {},
   "outputs": [],
   "source": [
    "#linear regression"
   ]
  },
  {
   "cell_type": "code",
   "execution_count": 77,
   "id": "5e52eca6",
   "metadata": {},
   "outputs": [
    {
     "data": {
      "text/plain": [
       "LinearRegression()"
      ]
     },
     "execution_count": 77,
     "metadata": {},
     "output_type": "execute_result"
    }
   ],
   "source": [
    "model=LinearRegression()\n",
    "model.fit(X_train, Y_train)"
   ]
  },
  {
   "cell_type": "code",
   "execution_count": 84,
   "id": "3131bdbc",
   "metadata": {},
   "outputs": [],
   "source": [
    "train_pred=model.predict(X_train)\n",
    "test_pred=model.predict(X_test)"
   ]
  },
  {
   "cell_type": "code",
   "execution_count": 85,
   "id": "67c19ded",
   "metadata": {},
   "outputs": [
    {
     "name": "stdout",
     "output_type": "stream",
     "text": [
      "RMSE Training Data =  9.138876762748481\n",
      "RMSE Test Data=   9.46111980345262\n",
      "--------------------------------------------------\n",
      "r squared value on train 0.9977724411675162\n",
      "r squared value on test 0.9973378490150375\n"
     ]
    }
   ],
   "source": [
    "RMSE_train=(np.sqrt(metrics.mean_squared_error(Y_train,train_pred)))\n",
    "RMSE_test=(np.sqrt(metrics.mean_squared_error(Y_test, test_pred)))\n",
    "print(\"RMSE Training Data = \", str(RMSE_train))\n",
    "print(\"RMSE Test Data=  \", str(RMSE_test))\n",
    "print('-'*50)\n",
    "print('r squared value on train', model.score(X_train, Y_train))\n",
    "print('r squared value on test', model.score(X_test, Y_test))\n"
   ]
  },
  {
   "cell_type": "code",
   "execution_count": 86,
   "id": "41647b6a",
   "metadata": {},
   "outputs": [
    {
     "name": "stdout",
     "output_type": "stream",
     "text": [
      "MSE Training Data =  83.51906848470415\n",
      "MSE Test Data =  89.51278793528336\n"
     ]
    }
   ],
   "source": [
    "MSE_train = metrics.mean_squared_error(Y_train, train_pred)\n",
    "MSE_test = metrics.mean_squared_error(Y_test, test_pred)\n",
    "print(\"MSE Training Data = \", str(MSE_train))\n",
    "print(\"MSE Test Data = \", str(MSE_test))"
   ]
  },
  {
   "cell_type": "code",
   "execution_count": 87,
   "id": "481d994e",
   "metadata": {},
   "outputs": [
    {
     "data": {
      "image/png": "[encoded data removed]",
      "text/plain": [
       "<Figure size 1400x800 with 1 Axes>"
      ]
     },
     "metadata": {},
     "output_type": "display_data"
    }
   ],
   "source": [
    "plt.figure(figsize=(14,8))\n",
    "ax= sns.distplot(Y_test, hist=False , color=\"r\", label=\"actual value \")\n",
    "sns.distplot(test_pred, hist=False, color=\"b\", label=\"predicted values\", ax=ax)\n",
    "\n",
    "plt.title('actual vs predicted values for AQI')\n",
    "plt.legend()\n",
    "plt.show()\n",
    "plt.close()"
   ]
  },
  {
   "cell_type": "code",
   "execution_count": null,
   "id": "34873f2c",
   "metadata": {},
   "outputs": [],
   "source": [
    "#Decision Tree regressor"
   ]
  },
  {
   "cell_type": "code",
   "execution_count": 89,
   "id": "4da8e09e",
   "metadata": {},
   "outputs": [
    {
     "data": {
      "text/plain": [
       "DecisionTreeRegressor()"
      ]
     },
     "execution_count": 89,
     "metadata": {},
     "output_type": "execute_result"
    }
   ],
   "source": [
    "DT= DecisionTreeRegressor()\n",
    "DT.fit(X_train,Y_train)"
   ]
  },
  {
   "cell_type": "code",
   "execution_count": 90,
   "id": "a1a6e39a",
   "metadata": {},
   "outputs": [],
   "source": [
    "train_preds=DT.predict(X_train)\n",
    "test_preds=DT.predict(X_test)"
   ]
  },
  {
   "cell_type": "code",
   "execution_count": 91,
   "id": "ac591080",
   "metadata": {},
   "outputs": [
    {
     "name": "stdout",
     "output_type": "stream",
     "text": [
      "RMSE Training Data =  1.3856117809764787e-13\n",
      "RMSE Test Data=   12.941668885209129\n",
      "--------------------------------------------------\n",
      "r squared value on train 1.0\n",
      "r squared value on test 0.995018866659609\n"
     ]
    }
   ],
   "source": [
    "RMSE_train=(np.sqrt(metrics.mean_squared_error(Y_train,train_preds)))\n",
    "RMSE_test=(np.sqrt(metrics.mean_squared_error(Y_test, test_preds)))\n",
    "print(\"RMSE Training Data = \", str(RMSE_train))\n",
    "print(\"RMSE Test Data=  \", str(RMSE_test))\n",
    "print('-'*50)\n",
    "print('r squared value on train', DT.score(X_train, Y_train))\n",
    "print('r squared value on test', DT.score(X_test, Y_test))"
   ]
  },
  {
   "cell_type": "code",
   "execution_count": 92,
   "id": "ad495948",
   "metadata": {},
   "outputs": [
    {
     "name": "stdout",
     "output_type": "stream",
     "text": [
      "MSE Training Data =  83.51906848470415\n",
      "MSE Test Data =  89.51278793528336\n"
     ]
    }
   ],
   "source": [
    "MSE_train = metrics.mean_squared_error(Y_train, train_pred)\n",
    "MSE_test = metrics.mean_squared_error(Y_test, test_pred)\n",
    "print(\"MSE Training Data = \", str(MSE_train))\n",
    "print(\"MSE Test Data = \", str(MSE_test))"
   ]
  },
  {
   "cell_type": "code",
   "execution_count": 93,
   "id": "90c3a980",
   "metadata": {},
   "outputs": [
    {
     "data": {
      "image/png": "[encoded data removed]",
      "text/plain": [
       "<Figure size 1400x800 with 1 Axes>"
      ]
     },
     "metadata": {},
     "output_type": "display_data"
    }
   ],
   "source": [
    "plt.figure(figsize=(14,8))\n",
    "ax= sns.distplot(Y_test, hist=False , color=\"r\", label=\"actual value \")\n",
    "sns.distplot(test_preds, hist=False, color=\"b\", label=\"predicted values\", ax=ax)\n",
    "\n",
    "plt.title('actual vs predicted values for AQI')\n",
    "plt.legend()\n",
    "plt.show()\n",
    "plt.close()"
   ]
  },
  {
   "cell_type": "code",
   "execution_count": null,
   "id": "9ba7d9d1",
   "metadata": {},
   "outputs": [],
   "source": [
    "#Random Forest Regressor"
   ]
  },
  {
   "cell_type": "code",
   "execution_count": 94,
   "id": "c55a8aef",
   "metadata": {},
   "outputs": [],
   "source": [
    "RF=RandomForestRegressor().fit(X_train, Y_train)\n"
   ]
  },
  {
   "cell_type": "code",
   "execution_count": 95,
   "id": "ff5330a8",
   "metadata": {},
   "outputs": [],
   "source": [
    "train_preds1=RF.predict(X_train)\n",
    "test_preds1=RF.predict(X_test)"
   ]
  },
  {
   "cell_type": "code",
   "execution_count": 96,
   "id": "7617bdb9",
   "metadata": {},
   "outputs": [
    {
     "name": "stdout",
     "output_type": "stream",
     "text": [
      "RMSE Training Data =  14.415172062690568\n",
      "RMSE Test Data=   10.681774499817525\n",
      "--------------------------------------------------\n",
      "r squared value on train 0.9944577871312515\n",
      "r squared value on test 0.9966066050421779\n"
     ]
    }
   ],
   "source": [
    "RMSE_train=(np.sqrt(metrics.mean_squared_error(Y_train,train_preds1)))\n",
    "RMSE_test=(np.sqrt(metrics.mean_squared_error(Y_test, test_preds1)))\n",
    "print(\"RMSE Training Data = \", str(RMSE_train))\n",
    "print(\"RMSE Test Data=  \", str(RMSE_test))\n",
    "print('-'*50)\n",
    "print('r squared value on train', RF.score(X_train, Y_train))\n",
    "print('r squared value on test', RF.score(X_test, Y_test))"
   ]
  },
  {
   "cell_type": "code",
   "execution_count": 97,
   "id": "db3c7ec3",
   "metadata": {},
   "outputs": [
    {
     "name": "stdout",
     "output_type": "stream",
     "text": [
      "MSE Training Data =  207.79718559697463\n",
      "MSE Test Data =  114.10030646495196\n"
     ]
    }
   ],
   "source": [
    "MSE_train = metrics.mean_squared_error(Y_train, train_preds1)\n",
    "MSE_test = metrics.mean_squared_error(Y_test, test_preds1)\n",
    "print(\"MSE Training Data = \", str(MSE_train))\n",
    "print(\"MSE Test Data = \", str(MSE_test))"
   ]
  },
  {
   "cell_type": "code",
   "execution_count": 98,
   "id": "3579e8e9",
   "metadata": {},
   "outputs": [
    {
     "data": {
      "image/png": "[encoded data removed]",
      "text/plain": [
       "<Figure size 1400x800 with 1 Axes>"
      ]
     },
     "metadata": {},
     "output_type": "display_data"
    }
   ],
   "source": [
    "plt.figure(figsize=(14,8))\n",
    "ax= sns.distplot(Y_test, hist=False , color=\"r\", label=\"actual value \")\n",
    "sns.distplot(test_preds1, hist=False, color=\"b\", label=\"predicted values\", ax=ax)\n",
    "\n",
    "plt.title('actual vs predicted values for AQI')\n",
    "plt.legend()\n",
    "plt.show()\n",
    "plt.close()"
   ]
  },
  {
   "cell_type": "code",
   "execution_count": 99,
   "id": "687c4fe2",
   "metadata": {},
   "outputs": [
    {
     "data": {
      "text/html": [
       "<div>\n",
       "<style scoped>\n",
       "    .dataframe tbody tr th:only-of-type {\n",
       "        vertical-align: middle;\n",
       "    }\n",
       "\n",
       "    .dataframe tbody tr th {\n",
       "        vertical-align: top;\n",
       "    }\n",
       "\n",
       "    .dataframe thead th {\n",
       "        text-align: right;\n",
       "    }\n",
       "</style>\n",
       "<table border=\"1\" class=\"dataframe\">\n",
       "  <thead>\n",
       "    <tr style=\"text-align: right;\">\n",
       "      <th></th>\n",
       "      <th>Soi</th>\n",
       "      <th>Noi</th>\n",
       "      <th>COi</th>\n",
       "      <th>NOi</th>\n",
       "      <th>O3i</th>\n",
       "      <th>PM10i</th>\n",
       "      <th>PM25i</th>\n",
       "    </tr>\n",
       "  </thead>\n",
       "  <tbody>\n",
       "    <tr>\n",
       "      <th>0</th>\n",
       "      <td>2.500</td>\n",
       "      <td>17.50</td>\n",
       "      <td>8.863636</td>\n",
       "      <td>8.50</td>\n",
       "      <td>16.666667</td>\n",
       "      <td>56.000000</td>\n",
       "      <td>81.196581</td>\n",
       "    </tr>\n",
       "    <tr>\n",
       "      <th>1</th>\n",
       "      <td>3.250</td>\n",
       "      <td>13.75</td>\n",
       "      <td>3.977273</td>\n",
       "      <td>1.40</td>\n",
       "      <td>45.370370</td>\n",
       "      <td>24.074074</td>\n",
       "      <td>94.017094</td>\n",
       "    </tr>\n",
       "    <tr>\n",
       "      <th>2</th>\n",
       "      <td>5.125</td>\n",
       "      <td>28.75</td>\n",
       "      <td>6.704545</td>\n",
       "      <td>7.00</td>\n",
       "      <td>2.870370</td>\n",
       "      <td>25.925926</td>\n",
       "      <td>37.500000</td>\n",
       "    </tr>\n",
       "    <tr>\n",
       "      <th>3</th>\n",
       "      <td>2.750</td>\n",
       "      <td>30.00</td>\n",
       "      <td>8.068182</td>\n",
       "      <td>0.50</td>\n",
       "      <td>18.518519</td>\n",
       "      <td>35.185185</td>\n",
       "      <td>55.555556</td>\n",
       "    </tr>\n",
       "    <tr>\n",
       "      <th>4</th>\n",
       "      <td>23.750</td>\n",
       "      <td>57.50</td>\n",
       "      <td>5.113636</td>\n",
       "      <td>1.55</td>\n",
       "      <td>7.129630</td>\n",
       "      <td>99.000000</td>\n",
       "      <td>285.000000</td>\n",
       "    </tr>\n",
       "  </tbody>\n",
       "</table>\n",
       "</div>"
      ],
      "text/plain": [
       "      Soi    Noi       COi   NOi        O3i      PM10i       PM25i\n",
       "0   2.500  17.50  8.863636  8.50  16.666667  56.000000   81.196581\n",
       "1   3.250  13.75  3.977273  1.40  45.370370  24.074074   94.017094\n",
       "2   5.125  28.75  6.704545  7.00   2.870370  25.925926   37.500000\n",
       "3   2.750  30.00  8.068182  0.50  18.518519  35.185185   55.555556\n",
       "4  23.750  57.50  5.113636  1.55   7.129630  99.000000  285.000000"
      ]
     },
     "execution_count": 99,
     "metadata": {},
     "output_type": "execute_result"
    }
   ],
   "source": [
    "X2=taiwan_air_quality[['Soi','Noi','COi','NOi','O3i','PM10i','PM25i']]\n",
    "Y2=taiwan_air_quality['AQI_Range']\n",
    "X2.head()\n"
   ]
  },
  {
   "cell_type": "code",
   "execution_count": null,
   "id": "c85df962",
   "metadata": {},
   "outputs": [],
   "source": [
    "# K neigbors Regressor"
   ]
  },
  {
   "cell_type": "code",
   "execution_count": 100,
   "id": "ea80aee9",
   "metadata": {},
   "outputs": [
    {
     "name": "stdout",
     "output_type": "stream",
     "text": [
      "Training R-squared: 0.9642562845655984\n",
      "Test R-squared: 0.9667742985134361\n",
      "Training RMSE: 36.608174787064016\n",
      "Test RMSE: 33.42437381631545\n",
      "Training MSE: 1340.1584612402296\n",
      "Test MSE: 1117.188765012794\n"
     ]
    }
   ],
   "source": [
    "from sklearn.neighbors import KNeighborsRegressor\n",
    "from sklearn.metrics import r2_score, mean_squared_error\n",
    "\n",
    "# create a KNN regression model with k=5\n",
    "KNN_reg = KNeighborsRegressor(n_neighbors=5)\n",
    "\n",
    "# fit the model on training data\n",
    "KNN_reg.fit(X_train, Y_train)\n",
    "\n",
    "# predict the target values for both training and test data\n",
    "train_preds = KNN_reg.predict(X_train)\n",
    "test_preds = KNN_reg.predict(X_test)\n",
    "\n",
    "# calculate R-squared for both training and test data\n",
    "train_r2 = r2_score(Y_train, train_preds)\n",
    "test_r2 = r2_score(Y_test, test_preds)\n",
    "\n",
    "# calculate RMSE for both training and test data\n",
    "train_rmse = np.sqrt(mean_squared_error(Y_train, train_preds))\n",
    "test_rmse = np.sqrt(mean_squared_error(Y_test, test_preds))\n",
    "\n",
    "# calculate MSE for both training and test data\n",
    "train_mse = mean_squared_error(Y_train, train_preds)\n",
    "test_mse = mean_squared_error(Y_test, test_preds)\n",
    "\n",
    "print('Training R-squared:', train_r2)\n",
    "print('Test R-squared:', test_r2)\n",
    "print('Training RMSE:', train_rmse)\n",
    "print('Test RMSE:', test_rmse)\n",
    "print('Training MSE:', train_mse)\n",
    "print('Test MSE:', test_mse)"
   ]
  },
  {
   "cell_type": "code",
   "execution_count": 101,
   "id": "a2816f94",
   "metadata": {},
   "outputs": [
    {
     "data": {
      "image/png": "[encoded data removed]",
      "text/plain": [
       "<Figure size 1400x800 with 1 Axes>"
      ]
     },
     "metadata": {},
     "output_type": "display_data"
    }
   ],
   "source": [
    "plt.figure(figsize=(14,8))\n",
    "ax= sns.distplot(Y_test, hist=False , color=\"r\", label=\"actual value \")\n",
    "sns.distplot(test_preds, hist=False, color=\"b\", label=\"predicted values\", ax=ax)\n",
    "\n",
    "plt.title('actual vs predicted values for AQI')\n",
    "plt.legend()\n",
    "plt.show()\n",
    "plt.close()"
   ]
  },
  {
   "cell_type": "code",
   "execution_count": null,
   "id": "db9d2d1a",
   "metadata": {},
   "outputs": [],
   "source": [
    "# Gradient boosting Regressor"
   ]
  },
  {
   "cell_type": "code",
   "execution_count": 106,
   "id": "ebfd858c",
   "metadata": {},
   "outputs": [
    {
     "name": "stdout",
     "output_type": "stream",
     "text": [
      "Training R-squared: 0.9998070646679786\n",
      "Test R-squared: 0.9667742985134361\n",
      "Training RMSE: 2.6895778084069444\n",
      "Test RMSE: 33.42437381631545\n",
      "Training MSE: 7.233828787475102\n",
      "Test MSE: 1117.188765012794\n"
     ]
    }
   ],
   "source": [
    "from sklearn.ensemble import GradientBoostingRegressor\n",
    "from sklearn.metrics import r2_score, mean_squared_error\n",
    "\n",
    "# create a Gradient Boosting regression model\n",
    "GBM_reg = GradientBoostingRegressor()\n",
    "\n",
    "# fit the model on training data\n",
    "GBM_reg.fit(X_train, Y_train)\n",
    "\n",
    "# predict the target values for both training and test data\n",
    "train_preds = GBM_reg.predict(X_train)\n",
    "test_preds21 = GBM_reg.predict(X_test)\n",
    "\n",
    "# calculate R-squared for both training and test data\n",
    "train_r2 = r2_score(Y_train, train_preds)\n",
    "test_r2 = r2_score(Y_test, test_preds)\n",
    "\n",
    "# calculate RMSE for both training and test data\n",
    "train_rmse = np.sqrt(mean_squared_error(Y_train, train_preds))\n",
    "test_rmse = np.sqrt(mean_squared_error(Y_test, test_preds))\n",
    "\n",
    "# calculate MSE for both training and test data\n",
    "train_mse = mean_squared_error(Y_train, train_preds)\n",
    "test_mse = mean_squared_error(Y_test, test_preds)\n",
    "\n",
    "print('Training R-squared:', train_r2)\n",
    "print('Test R-squared:', test_r2)\n",
    "print('Training RMSE:', train_rmse)\n",
    "print('Test RMSE:', test_rmse)\n",
    "print('Training MSE:', train_mse)\n",
    "print('Test MSE:', test_mse)"
   ]
  },
  {
   "cell_type": "code",
   "execution_count": 105,
   "id": "3a8cbabc",
   "metadata": {},
   "outputs": [
    {
     "data": {
      "image/png": "[encoded data removed]",
      "text/plain": [
       "<Figure size 1400x800 with 1 Axes>"
      ]
     },
     "metadata": {},
     "output_type": "display_data"
    }
   ],
   "source": [
    "plt.figure(figsize=(14,8))\n",
    "ax= sns.distplot(Y_test, hist=False , color=\"r\", label=\"actual value \")\n",
    "sns.distplot(test_preds21, hist=False, color=\"b\", label=\"predicted values\", ax=ax)\n",
    "\n",
    "plt.title('actual vs predicted values for AQI')\n",
    "plt.legend()\n",
    "plt.show()\n",
    "plt.close()"
   ]
  }
 ],
 "metadata": {
  "kernelspec": {
   "display_name": "Python 3 (ipykernel)",
   "language": "python",
   "name": "python3"
  },
  "language_info": {
   "codemirror_mode": {
    "name": "ipython",
    "version": 3
   },
   "file_extension": ".py",
   "mimetype": "text/x-python",
   "name": "python",
   "nbconvert_exporter": "python",
   "pygments_lexer": "ipython3",
   "version": "3.9.13"
  }
 },
 "nbformat": 4,
 "nbformat_minor": 5
}
